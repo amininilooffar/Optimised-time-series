{
 "cells": [
  {
   "cell_type": "code",
   "execution_count": null,
   "id": "74d7696d",
   "metadata": {
    "colab": {
     "base_uri": "https://localhost:8080/"
    },
    "id": "74d7696d",
    "outputId": "e7668fb6-8a29-4220-8af6-e055ee048697"
   },
   "outputs": [],
   "source": [
    "#importing the required libraries\n",
    "%pylab inline\n",
    "import warnings\n",
    "warnings.filterwarnings('ignore')\n",
    "import pandas as pd\n",
    "import numpy as np\n",
    "import matplotlib.pyplot as plt\n",
    "import seaborn as sns\n",
    "from statsmodels.tsa.statespace.sarimax import SARIMAX\n",
    "from sklearn.metrics import mean_absolute_percentage_error\n",
    "from statsmodels.tools.eval_measures import rmse\n",
    "import statsmodels.api as sm  #acf and pacf libraries\n",
    "from scipy.optimize import linprog\n",
    "from statsmodels.tsa.stattools import adfuller\n",
    "from pandas.plotting import register_matplotlib_converters\n",
    "register_matplotlib_converters()\n",
    "!pip install --upgrade kneed\n",
    "from kneed import KneeLocator #finding knee point\n",
    "%matplotlib inline"
   ]
  },
  {
   "cell_type": "code",
   "execution_count": null,
   "id": "42ba5b1e",
   "metadata": {
    "id": "42ba5b1e"
   },
   "outputs": [],
   "source": [
    "#reading the data given by the supermarket\n",
    "energy= pd.read_csv('A0003 Pepper Hill Data.csv')\n",
    "Temperature= pd.read_csv('Temperature Data.csv')"
   ]
  },
  {
   "cell_type": "code",
   "execution_count": null,
   "id": "3b464322",
   "metadata": {
    "id": "3b464322"
   },
   "outputs": [],
   "source": [
    "#imputing missing values in temperature: average of previous and next available data\n",
    "Temperature[\"Temperature\"] = Temperature['Temperature'].astype(float)\n",
    "Temperature['Temperature'] = Temperature['Temperature'].replace({np.nan: 'zero'})\n",
    "\n",
    "for i in range (1, 17518):\n",
    "    if Temperature['Temperature'][i]== 'zero':\n",
    "        if Temperature['Temperature'][i-1]!= 'zero' and Temperature['Temperature'][i+1]!= 'zero':\n",
    "            Temperature['Temperature'][i]=(Temperature['Temperature'][i-1]+Temperature['Temperature'][i+1])/2\n",
    "\n",
    "for i in range (1, 17518):\n",
    "    if Temperature['Temperature'][i]== 'zero':\n",
    "        Temperature['Temperature'][i]=Temperature['Temperature'][i-1]"
   ]
  },
  {
   "cell_type": "code",
   "execution_count": null,
   "id": "0ff3adf1",
   "metadata": {
    "colab": {
     "base_uri": "https://localhost:8080/",
     "height": 415
    },
    "id": "0ff3adf1",
    "outputId": "1f93fd22-d7a4-4aa8-e5d6-668a8f16b5fd"
   },
   "outputs": [],
   "source": [
    "#preparing the main data frame named energy\n",
    "energy['Temperature']=Temperature['Temperature']\n",
    "energy['Temperature'][0]= 9.0\n",
    "energy['Temperature'][17518]= 8.0\n",
    "energy['Temperature']=energy['Temperature'].astype(float)\n",
    "energy"
   ]
  },
  {
   "cell_type": "code",
   "execution_count": null,
   "id": "a7111bbb",
   "metadata": {
    "colab": {
     "base_uri": "https://localhost:8080/",
     "height": 446
    },
    "id": "a7111bbb",
    "outputId": "f1b73259-ebb9-45f2-a87e-ddda4ac0865d"
   },
   "outputs": [],
   "source": [
    "#define the dataframe as a date time style\n",
    "energy.Date = pd.to_datetime(energy.Date)\n",
    "energy['Week'] = energy.Date.dt.week\n",
    "energy['Year'] = energy.Date.dt.year\n",
    "energy['Month'] = energy.Date.dt.month\n",
    "energy['Day'] = energy.Date.dt.day\n",
    "energy['Hour'] =energy.Date.dt.hour\n",
    "energy['Min']=energy.Date.dt.minute\n",
    "energy.index= energy['Date']\n",
    "del energy['Date']\n",
    "energy"
   ]
  },
  {
   "cell_type": "code",
   "execution_count": null,
   "id": "e5be0d94",
   "metadata": {
    "colab": {
     "base_uri": "https://localhost:8080/",
     "height": 283
    },
    "id": "e5be0d94",
    "outputId": "38790d60-93eb-4d22-8a74-6a90af95c232"
   },
   "outputs": [],
   "source": [
    "#plotting the given data\n",
    "fig, ax = plt.subplots(figsize=(21,6))\n",
    "plt.plot(energy['Energy'], color= 'black')\n",
    "#plt.title('Energy consumption within a year (half hourly recorded)', fontsize=20)\n",
    "plt.ylabel('$X_t$', fontsize=15)\n",
    "plt.xlabel('Date', fontsize=15)\n",
    "plt.show()"
   ]
  },
  {
   "cell_type": "code",
   "execution_count": null,
   "id": "bde66b59",
   "metadata": {
    "colab": {
     "base_uri": "https://localhost:8080/",
     "height": 283
    },
    "id": "bde66b59",
    "outputId": "79a73345-c747-4a48-d5ec-2960b18a4f96"
   },
   "outputs": [],
   "source": [
    "#plotting the differentiated data for one of the time slots\n",
    "fig, ax = plt.subplots(figsize=(21,6))\n",
    "plt.plot(energy['Energy'].loc[(energy['Hour'] == 2) & (energy['Min'] == 30)].diff(1).dropna(), color= 'black')\n",
    "#plt.title('First order differencing for Energy consumption at 02:30', fontsize=20)\n",
    "plt.ylabel(r'$X_t - X_{t-1}$', fontsize=15)\n",
    "plt.xlabel('Date', fontsize=15)\n",
    "plt.show()"
   ]
  },
  {
   "cell_type": "code",
   "execution_count": null,
   "id": "2ddf4227",
   "metadata": {
    "colab": {
     "base_uri": "https://localhost:8080/",
     "height": 283
    },
    "id": "2ddf4227",
    "outputId": "5e57f8c7-d851-4b32-ac8b-07a8ca07c75f"
   },
   "outputs": [],
   "source": [
    "#plotting the temperature data\n",
    "fig, ax = plt.subplots(figsize=(21,6))\n",
    "plt.plot(energy['Temperature'], color= 'purple')\n",
    "#plt.title('Temperature data within a year', fontsize=20)\n",
    "plt.ylabel('$Temperature {^\\circ}C$', fontsize=15)\n",
    "plt.xlabel('Date', fontsize=15)\n",
    "plt.show()"
   ]
  },
  {
   "cell_type": "code",
   "execution_count": null,
   "id": "99b03e98",
   "metadata": {
    "colab": {
     "base_uri": "https://localhost:8080/",
     "height": 287
    },
    "id": "99b03e98",
    "outputId": "6af69f63-1a80-4a75-9327-3b66675162fd"
   },
   "outputs": [],
   "source": [
    "#both temperature and energy for 02:30 in one plot to see the correlation\n",
    "fig, ax = plt.subplots(figsize=(21,6))\n",
    "plt.plot(energy['Temperature'].loc[(energy['Hour'] == 2) & (energy['Min'] == 30)], color= 'purple', label='$T_t$')\n",
    "plt.plot(energy['Energy'].loc[(energy['Hour'] == 2) & (energy['Min'] == 30)], color= 'black', label='$X_t$')\n",
    "#plt.title('Two varibales in one plot (for 02:30)', fontsize=20)\n",
    "\n",
    "plt.xlabel('Date', fontsize=15)\n",
    "plt.legend()\n",
    "plt.show()"
   ]
  },
  {
   "cell_type": "code",
   "execution_count": null,
   "id": "BPXIRNdU5mjz",
   "metadata": {
    "colab": {
     "base_uri": "https://localhost:8080/",
     "height": 284
    },
    "id": "BPXIRNdU5mjz",
    "outputId": "614a3927-c286-47ba-f038-405d58edf131"
   },
   "outputs": [],
   "source": [
    "# energy for 02:30\n",
    "fig, ax = plt.subplots(figsize=(21,6))\n",
    "\n",
    "plt.plot(energy['Energy'].loc[(energy['Hour'] == 2) & (energy['Min'] == 30)], color= 'black')\n",
    "#plt.title('Two varibales in one plot (for 02:30)', fontsize=20)\n",
    "plt.xlabel('Date', fontsize=15)\n",
    "plt.ylabel('$X_t$', fontsize=15)\n",
    "#plt.legend()\n",
    "plt.show()"
   ]
  },
  {
   "cell_type": "code",
   "execution_count": null,
   "id": "9db014ac",
   "metadata": {
    "colab": {
     "base_uri": "https://localhost:8080/",
     "height": 110
    },
    "id": "9db014ac",
    "outputId": "eb4dd652-b53f-4d80-a1aa-9160a3a433d2"
   },
   "outputs": [],
   "source": [
    "#correlation among given variables\n",
    "energy.iloc[:,0:2].corr()"
   ]
  },
  {
   "cell_type": "code",
   "execution_count": null,
   "id": "c99a74dd",
   "metadata": {
    "colab": {
     "base_uri": "https://localhost:8080/",
     "height": 285
    },
    "id": "c99a74dd",
    "outputId": "54eb412c-219b-49dc-bdac-293ba3d503d8"
   },
   "outputs": [],
   "source": [
    "#plotting the data for only two days to magnify the seasonality\n",
    "fig, ax = plt.subplots(figsize=(21,6))\n",
    "plt.plot(energy.iloc[0:144,6].index,energy.iloc[0:144,0], color= 'black')\n",
    "#plt.title('Energy consumption within 3 DAYS (half hourly recorded)', fontsize=20)\n",
    "plt.xlabel('Date', fontsize=15)\n",
    "plt.ylabel('$X_t$', fontsize=15)\n",
    "plt.show()"
   ]
  },
  {
   "cell_type": "code",
   "execution_count": null,
   "id": "d60dfd85",
   "metadata": {
    "colab": {
     "base_uri": "https://localhost:8080/"
    },
    "id": "d60dfd85",
    "outputId": "d98eb3c9-5c20-4844-8886-b8ad1edc4778"
   },
   "outputs": [],
   "source": [
    "energy.info()"
   ]
  },
  {
   "cell_type": "markdown",
   "id": "d82af4b8",
   "metadata": {
    "id": "d82af4b8"
   },
   "source": [
    "# Machine learning part: ARIMAX MODEL for each 48 time slot"
   ]
  },
  {
   "cell_type": "code",
   "execution_count": null,
   "id": "42063432",
   "metadata": {
    "colab": {
     "base_uri": "https://localhost:8080/",
     "height": 446
    },
    "id": "42063432",
    "outputId": "c86da873-cc04-4d02-e89a-1941fa12f1d7"
   },
   "outputs": [],
   "source": [
    "#Time: 00:00 (because for this time we have less data for training, it is out of the loop and is done separately)\n",
    "df2=energy.loc[(energy['Hour'] == 0) & (energy['Min'] == 0)]\n",
    "df2=df2.iloc[:,:2]\n",
    "df2"
   ]
  },
  {
   "cell_type": "code",
   "execution_count": null,
   "id": "de83d594",
   "metadata": {
    "colab": {
     "base_uri": "https://localhost:8080/",
     "height": 452
    },
    "id": "de83d594",
    "outputId": "11a8c2e1-ad38-418b-9a4e-3f814852d90f"
   },
   "outputs": [],
   "source": [
    "#plotting pacf\n",
    "sm.tsa.graphics.plot_pacf(energy['Energy'].loc[(energy['Hour'] == 0) & (energy['Min'] == 0)].diff(1).dropna(), lags=50)\n",
    "plt.show()"
   ]
  },
  {
   "cell_type": "code",
   "execution_count": null,
   "id": "8cb9e3b6",
   "metadata": {
    "colab": {
     "base_uri": "https://localhost:8080/",
     "height": 1000
    },
    "id": "8cb9e3b6",
    "outputId": "33e2f5f8-1c51-4922-b331-350ce49654b4"
   },
   "outputs": [],
   "source": [
    "#for 00:00\n",
    "AIC_orders=[]\n",
    "\n",
    "# Loop over p values from 0-3\n",
    "for q in range(4):\n",
    "  # Loop over q values from 0-6\n",
    "    for p in range(7):\n",
    "      \t# create and fit ARIMA(p,q) model (d=1 because difference of data is stationary (adfuller test)); traning data is\n",
    "        #given to check the aic\n",
    "        model = SARIMAX(df2.iloc[0:357,0],exog=df2.iloc[0:357,1], order=(p,1,q),enforce_invertibility=False, enforce_stationarity=False)\n",
    "        results = model.fit()\n",
    "\n",
    "        # Append order and results tuple\n",
    "        AIC_orders.append((p,q,results.aic))\n",
    "\n",
    "# DataFrame from AIC_orders\n",
    "order_df = pd.DataFrame(AIC_orders,\n",
    "                        columns=['p','q','AIC'])\n",
    "\n",
    "order_df=order_df.sort_values('AIC')\n",
    "order_df = order_df.reset_index()\n",
    "del order_df['index']\n",
    "\n",
    "kn = KneeLocator(range(0,28),order_df['AIC'], curve='convex', direction='increasing') #finding the knee point(elbow)\n",
    "h=kn.knee\n",
    "\n",
    "\n",
    "data = [{'time':'0','p':order_df['p'][h], 'q':order_df['q'][h]}] #take knee point as the order of the time series\n",
    "\n",
    "df_p_q = pd.DataFrame(data, columns=['time','p','q']) #recording selected orders\n",
    "\n",
    "\n",
    "#defining the model based on the optimum p and q correspond to knee point\n",
    "model= SARIMAX(df2.iloc[0:357,0],exog=df2.iloc[0:357,1],order=(order_df['p'][h],1,order_df['q'][h]), enforce_invertibility=False, enforce_stationarity=False)\n",
    "results= model.fit()\n",
    "\n",
    "predictions= results.predict(start =357, end=363, exog= df2.iloc[357:,1]) # static predict for a week\n",
    "predictions.index= df2.iloc[357:,0].index #giving index for predictions\n",
    "df=pd.DataFrame(data=predictions) #make a data frame from predictions\n",
    "\n",
    "Error_data = [{'time':'0','RMSE':rmse(predictions,df2.iloc[357:,0]), 'Normalized RMSE':rmse(predictions,df2.iloc[357:,0])/average(df2.iloc[357:,0])}]\n",
    "df_error= pd.DataFrame(Error_data, columns=['time','RMSE','Normalized RMSE'])   #collecting rmse for this period\n",
    "print('00:00-static')\n",
    "results.plot_diagnostics(figsize=(21,12)) #plotting qqplot, distribution, acf for residuals\n",
    "plt.show()\n",
    "print(results.summary()) #prints the summary of the model\n",
    "\n",
    "# Rolling forecast\n",
    "\n",
    "train, test = df2.iloc[0:357,0].values, df2.iloc[357:,0].values #defining test and train data\n",
    "train_exo, test_exo= df2.iloc[0:357,1].values, df2.iloc[357:,1].values #defining test and train data for exogenous factor\n",
    "history = [x for x in train] #make a history list\n",
    "history_exo = [y for y in train_exo] #history for exogenous factor\n",
    "predictions=list()\n",
    "#loop below updates the variables for rolling forecast\n",
    "for t in range(len(test)):\n",
    "    model = SARIMAX(history,exog= history_exo,order=(order_df['p'][h],1,order_df['q'][h]),enforce_invertibility=False, enforce_stationarity=False)\n",
    "    fit_model = model.fit()\n",
    "    out= fit_model.forecast(exog= test_exo[t])\n",
    "    yhat = out[0]\n",
    "    predictions.append(yhat)\n",
    "    J = test[t]\n",
    "    s= test_exo[t]\n",
    "    history.append(J)\n",
    "    history_exo.append(s)\n",
    "#make a dataframe from predictions\n",
    "df_rolling=pd.DataFrame(data= predictions, index= df2.iloc[357:,0].index)  #adding predicted values to previous predictions\n",
    "#recording rmse\n",
    "Error_Rolling_data = [{'time':'0','RMSE':rmse(predictions,df2.iloc[357:,0]), 'Normalized RMSE':rmse(predictions,df2.iloc[357:,0])/average(df2.iloc[357:,0])}]\n",
    "df_Rolling_error= pd.DataFrame(Error_data, columns=['time','RMSE','Normalized RMSE'])\n",
    "print('00:00-rolling')\n",
    "fit_model.plot_diagnostics(figsize=(21,12)) #plotting qqplot, distribution, acf for residuals\n",
    "plt.show()\n",
    "print(fit_model.summary())  #prints the summary of the model\n"
   ]
  },
  {
   "cell_type": "code",
   "execution_count": null,
   "id": "84f3182a",
   "metadata": {
    "colab": {
     "base_uri": "https://localhost:8080/"
    },
    "id": "84f3182a",
    "outputId": "aef028f0-df80-460e-f0a3-bf766663e5fc"
   },
   "outputs": [],
   "source": [
    "print ('The index for the knee point:' ,h)"
   ]
  },
  {
   "cell_type": "code",
   "execution_count": null,
   "id": "90bd5c5c",
   "metadata": {
    "colab": {
     "base_uri": "https://localhost:8080/",
     "height": 285
    },
    "id": "90bd5c5c",
    "outputId": "e7b5870b-c7f6-4348-89d3-5df01d2f7018"
   },
   "outputs": [],
   "source": [
    "#plot the sorted AIC to get the knee point\n",
    "fig, ax = plt.subplots(figsize=(21,6))\n",
    "plt.plot(order_df['AIC'], linewidth=3.5, color= 'blue')\n",
    "plt.title('Sorted AIC for 02:30', fontsize=20)\n",
    "plt.xticks(range(0,28))\n",
    "plt.ylabel('AIC')\n",
    "plt.show()"
   ]
  },
  {
   "cell_type": "code",
   "execution_count": null,
   "id": "28158b8e",
   "metadata": {
    "colab": {
     "base_uri": "https://localhost:8080/",
     "height": 907
    },
    "id": "28158b8e",
    "outputId": "8f940afa-08bd-4fc4-93d9-3e36c07b076b",
    "scrolled": true
   },
   "outputs": [],
   "source": [
    "#shows that higher orders gain better AIC\n",
    "order_df"
   ]
  },
  {
   "cell_type": "code",
   "execution_count": null,
   "id": "snsRmRHV-VqI",
   "metadata": {
    "id": "snsRmRHV-VqI"
   },
   "outputs": [],
   "source": [
    "List1=[]\n",
    "for i in range(0,28):\n",
    "  kio=(order_df['p'][i],order_df['q'][i])\n",
    "  List1.append(kio)"
   ]
  },
  {
   "cell_type": "code",
   "execution_count": null,
   "id": "6H8DXu3AAWSq",
   "metadata": {
    "id": "6H8DXu3AAWSq"
   },
   "outputs": [],
   "source": [
    "List2=[]\n",
    "for i in range(28):\n",
    "  mio=str(List1[i])\n",
    "  List2.append(mio)"
   ]
  },
  {
   "cell_type": "code",
   "execution_count": null,
   "id": "AewTLa3w_t_m",
   "metadata": {
    "colab": {
     "base_uri": "https://localhost:8080/",
     "height": 299
    },
    "id": "AewTLa3w_t_m",
    "outputId": "a2be11e4-b6b5-4937-e92f-18ce981e629c"
   },
   "outputs": [],
   "source": [
    "#plot the sorted AIC to get the knee point\n",
    "fig, ax = plt.subplots(figsize=(21,6))\n",
    "plt.plot(h, order_df['AIC'][h], marker=\"o\", markersize=40, markeredgecolor=\"red\",markerfacecolor=\"white\", alpha=0.9)\n",
    "ax.annotate('Knee point', xy=(h, order_df['AIC'][h]), xytext=(h-5, order_df['AIC'][h+2]),arrowprops=dict(facecolor='black', shrink=0.05),fontsize=15)\n",
    "plt.plot(order_df['AIC'], linewidth=3.5, color= 'blue')\n",
    "#plt.title('Sorted AIC for 02:30', fontsize=20)\n",
    "# Set number of ticks for x-axis\n",
    "ax.set_xticks(range(0,28))\n",
    "# Set ticks labels for x-axis\n",
    "ax.set_xticklabels(List2, rotation='vertical', fontsize=12)\n",
    "plt.ylabel('AIC',fontsize=15)\n",
    "plt.xlabel('$(p,q)$', fontsize=15)\n",
    "plt.show()\n"
   ]
  },
  {
   "cell_type": "code",
   "execution_count": null,
   "id": "Eb6E3yrgH6M2",
   "metadata": {
    "colab": {
     "base_uri": "https://localhost:8080/",
     "height": 299
    },
    "id": "Eb6E3yrgH6M2",
    "outputId": "a3768f44-209d-43c2-e137-75c0f0c8bf5f"
   },
   "outputs": [],
   "source": [
    "List1=[]\n",
    "for i in range(0,28):\n",
    "  kio=(order_df['p'][i],order_df['q'][i])\n",
    "  List1.append(kio)\n",
    "List2=[]\n",
    "for i in range(28):\n",
    "  mio=str(List1[i])\n",
    "  List2.append(mio)\n",
    "#plot the sorted AIC to get the knee point\n",
    "fig, ax = plt.subplots(figsize=(21,6))\n",
    "plt.plot(h, order_df['AIC'][h], marker=\"o\", markersize=40, markeredgecolor=\"red\",markerfacecolor=\"white\", alpha=0.9)\n",
    "ax.annotate('Knee point', xy=(h, order_df['AIC'][h]), xytext=(h-5, order_df['AIC'][h+2]),arrowprops=dict(facecolor='black', shrink=0.05),fontsize=15)\n",
    "plt.plot(order_df['AIC'], linewidth=3.5, color= 'blue')\n",
    "#plt.title('Sorted AIC for 02:30', fontsize=20)\n",
    "# Set number of ticks for x-axis\n",
    "ax.set_xticks(range(0,28))\n",
    "# Set ticks labels for x-axis\n",
    "ax.set_xticklabels(List2, rotation='vertical', fontsize=12)\n",
    "plt.ylabel('AIC',fontsize=15)\n",
    "plt.xlabel('$(p,q)$', fontsize=15)\n",
    "plt.show()"
   ]
  },
  {
   "cell_type": "code",
   "execution_count": null,
   "id": "bd6fbee9",
   "metadata": {
    "colab": {
     "base_uri": "https://localhost:8080/",
     "height": 1000
    },
    "id": "bd6fbee9",
    "outputId": "1c62896c-4ea2-4711-aedc-52cb5e109314"
   },
   "outputs": [],
   "source": [
    "#for 00:30\n",
    "df2=energy.loc[(energy['Hour'] == 0) & (energy['Min'] == 30)]\n",
    "df2=df2.iloc[:,:2]\n",
    "sm.tsa.graphics.plot_acf(df2.iloc[:,0], lags=30)\n",
    "plt.show()\n",
    "\n",
    "AIC_orders=[]\n",
    "\n",
    "    # Loop over p values from 0-3\n",
    "for q in range(4):\n",
    "      # Loop over q values from 0-6\n",
    "    for p in range(7):\n",
    "            # create and fit ARIMA(p,q) model (d=1 because difference of data is stationary (adfuller test)); traning data is\n",
    "            #given to check the aic\n",
    "        model = SARIMAX(df2.iloc[0:358,0],exog=df2.iloc[0:358,1],order=(p,1,q),enforce_invertibility=False, enforce_stationarity=False)\n",
    "        results = model.fit()\n",
    "\n",
    "            # Append order and results tuple\n",
    "        AIC_orders.append((p,q,results.aic))\n",
    "\n",
    "    # DataFrame from AIC_orders\n",
    "order_df = pd.DataFrame(AIC_orders,\n",
    "                            columns=['p','q','AIC'])\n",
    "    #sorting based on the minimum values of AIC\n",
    "order_df=order_df.sort_values('AIC')\n",
    "order_df = order_df.reset_index()\n",
    "del order_df['index']\n",
    "\n",
    "kn = KneeLocator(range(0,28),order_df['AIC'], curve='convex', direction='increasing') #finding the elbow\n",
    "h=kn.knee\n",
    "\n",
    "data = ['00:30',order_df['p'][h], order_df['q'][h]]\n",
    "df_p_q.loc[len(df_p_q)]=data\n",
    "\n",
    "    #defining the model based on the optimum p and q that AIC returned.\n",
    "model= SARIMAX(df2.iloc[0:358,0],exog=df2.iloc[0:358,1], order=(order_df['p'][h],1,order_df['q'][h]), enforce_invertibility=False, enforce_stationarity=False)\n",
    "results= model.fit()\n",
    "predictions= results.predict(start =358, end=364,exog= df2.iloc[358:,1])\n",
    "predictions.index= df2.iloc[358:,0].index\n",
    "df=df.append(pd.DataFrame(data=predictions))\n",
    "\n",
    "\n",
    "Error_data=['00:30',rmse(predictions,df2.iloc[358:,0]), rmse(predictions,df2.iloc[358:,0])/average(df2.iloc[358:,0])]\n",
    "df_error.loc[len(df_error)]=Error_data\n",
    "print('00:30-static')\n",
    "results.plot_diagnostics(figsize=(21,12))\n",
    "plt.show()\n",
    "print(results.summary())\n",
    "\n",
    "    # Rolling forecast\n",
    "\n",
    "train, test = df2.iloc[0:358,0].values, df2.iloc[358:,0].values\n",
    "train_exo, test_exo= df2.iloc[0:358,1].values, df2.iloc[358:,1].values\n",
    "history = [x for x in train]\n",
    "history_exo = [y for y in train_exo]\n",
    "predictions=list()\n",
    "for t in range(len(test)):\n",
    "    model = SARIMAX(history,exog= history_exo,order=(order_df['p'][h],1,order_df['q'][h]),enforce_invertibility=False, enforce_stationarity=False)\n",
    "    fit_model = model.fit()\n",
    "    out= fit_model.forecast(exog= test_exo[t])\n",
    "    yhat = out[0]\n",
    "    predictions.append(yhat)\n",
    "    J = test[t]\n",
    "    s= test_exo[t]\n",
    "    history.append(J)\n",
    "    history_exo.append(s)\n",
    "df_rolling= df_rolling.append(pd.DataFrame(data= predictions, index= df2.iloc[358:,0].index))   #adding new predictions to previous hours values\n",
    "\n",
    "Error_Rolling_data=['00:30',rmse(predictions,df2.iloc[358,0]), rmse(predictions,df2.iloc[358,0])/average(df2.iloc[358,0])]\n",
    "df_Rolling_error.loc[len(df_Rolling_error)]=Error_Rolling_data\n",
    "print('00:30-rolling')\n",
    "fit_model.plot_diagnostics(figsize=(21,12))\n",
    "plt.show()\n",
    "print(fit_model.summary())"
   ]
  },
  {
   "cell_type": "code",
   "execution_count": null,
   "id": "67FfqQlUI0hy",
   "metadata": {
    "colab": {
     "base_uri": "https://localhost:8080/",
     "height": 299
    },
    "id": "67FfqQlUI0hy",
    "outputId": "9a0315ec-9beb-43d3-8109-f2b0103c5241"
   },
   "outputs": [],
   "source": [
    "#for 00:30\n",
    "List1=[]\n",
    "for i in range(0,28):\n",
    "  kio=(order_df['p'][i],order_df['q'][i])\n",
    "  List1.append(kio)\n",
    "List2=[]\n",
    "for i in range(28):\n",
    "  mio=str(List1[i])\n",
    "  List2.append(mio)\n",
    "#plot the sorted AIC to get the knee point\n",
    "fig, ax = plt.subplots(figsize=(21,6))\n",
    "plt.plot(h, order_df['AIC'][h], marker=\"o\", markersize=20, markeredgecolor=\"red\",markerfacecolor=\"white\", alpha=0.9)\n",
    "ax.annotate('Knee point', xy=(h, order_df['AIC'][h]), xytext=(h-5, order_df['AIC'][h+2]),arrowprops=dict(facecolor='black', shrink=0.05),fontsize=15)\n",
    "plt.plot(order_df['AIC'], linewidth=3.5, color= 'blue')\n",
    "#plt.title('Sorted AIC for 02:30', fontsize=20)\n",
    "# Set number of ticks for x-axis\n",
    "ax.set_xticks(range(0,28))\n",
    "# Set ticks labels for x-axis\n",
    "ax.set_xticklabels(List2, rotation='vertical', fontsize=12)\n",
    "plt.ylabel('AIC',fontsize=15)\n",
    "plt.xlabel('$(p,q)$', fontsize=15)\n",
    "plt.show()"
   ]
  },
  {
   "cell_type": "code",
   "execution_count": null,
   "id": "cc1e6dbe",
   "metadata": {
    "colab": {
     "base_uri": "https://localhost:8080/",
     "height": 1000
    },
    "id": "cc1e6dbe",
    "outputId": "c44bf025-540a-44a2-8bbe-623ab351083a"
   },
   "outputs": [],
   "source": [
    "#run the model for other 23 hours of the day\n",
    "for i in range(1,24):\n",
    "    for j in range(0,31,30):\n",
    "        df2=energy.loc[(energy['Hour'] == i) & (energy['Min'] == j) ]\n",
    "        df2=df2.iloc[:,:2]\n",
    "        AIC_orders=[]\n",
    "\n",
    "        # Loop over p values from 0-3\n",
    "        for q in range(4):\n",
    "          # Loop over q values from 0-6\n",
    "            for p in range(7):\n",
    "                model = SARIMAX(df2.iloc[0:358,0],exog=df2.iloc[0:358,1],order=(p,1,q),enforce_invertibility=False, enforce_stationarity=False)\n",
    "                results = model.fit()\n",
    "\n",
    "                # Append order and results tuple\n",
    "                AIC_orders.append((p,q,results.aic))\n",
    "\n",
    "        # DataFrame from AIC_orders\n",
    "        order_df = pd.DataFrame(AIC_orders,\n",
    "                                columns=['p','q','AIC'])\n",
    "        #sorting based on the minimum values of AIC\n",
    "        order_df=order_df.sort_values('AIC')\n",
    "        order_df = order_df.reset_index()\n",
    "        del order_df['index']\n",
    "        kn = KneeLocator(range(0,28),order_df['AIC'], curve='convex', direction='increasing') #finding the elbow\n",
    "        h=kn.knee\n",
    "\n",
    "        data = [str(i)+':'+str(j),order_df['p'][h], order_df['q'][h]]\n",
    "        df_p_q.loc[len(df_p_q)]=data\n",
    "\n",
    "\n",
    "        #defining the model based on the optimum p and q that AIC returned.\n",
    "        model= SARIMAX(df2.iloc[0:358,0],exog=df2.iloc[0:358,1], order=(order_df['p'][h],1,order_df['q'][h]), enforce_invertibility=False, enforce_stationarity=False)\n",
    "        results= model.fit()\n",
    "        predictions= results.predict(start =358, end=364,exog= df2.iloc[358:,1])\n",
    "        predictions.index= df2.iloc[358:,0].index\n",
    "        df=df.append(pd.DataFrame(data=predictions))\n",
    "\n",
    "        Error_data=[str(i)+':'+str(j),rmse(predictions,df2.iloc[358:,0]), rmse(predictions,df2.iloc[358:,0])/average(df2.iloc[358:,0])]\n",
    "        df_error.loc[len(df_error)]=Error_data\n",
    "        print(str(i)+':'+str(j)+'static')\n",
    "        sm.tsa.graphics.plot_acf(df2.iloc[:,0], lags=30)\n",
    "        plt.show()\n",
    "        results.plot_diagnostics(figsize=(21,12))\n",
    "        plt.show()\n",
    "        print(results.summary())\n",
    "        # Rolling forecast\n",
    "        #split into train and test sets\n",
    "\n",
    "        train, test = df2.iloc[0:358,0].values, df2.iloc[358:,0].values\n",
    "        train_exo, test_exo= df2.iloc[0:358,1].values, df2.iloc[358:,1].values\n",
    "        history = [x for x in train]\n",
    "        history_exo = [y for y in train_exo]\n",
    "        predictions=list()\n",
    "        for t in range(len(test)):\n",
    "            model = SARIMAX(history,exog= history_exo,order=(order_df['p'][h],1,order_df['q'][h]),enforce_invertibility=False, enforce_stationarity=False)\n",
    "            fit_model = model.fit()\n",
    "            out= fit_model.forecast(exog= test_exo[t])\n",
    "            yhat = out[0]\n",
    "            predictions.append(yhat)\n",
    "            J = test[t]\n",
    "            s= test_exo[t]\n",
    "            history.append(J)\n",
    "            history_exo.append(s)\n",
    "        df_rolling= df_rolling.append(pd.DataFrame(data= predictions, index=df2.iloc[358:,0].index))  #adding new predictions to previous hours values\n",
    "\n",
    "        Error_Rolling_data=[str(i)+':'+str(j),rmse(predictions,df2.iloc[358:,0]), rmse(predictions,df2.iloc[358:,0])/average(df2.iloc[358:,0])]\n",
    "        df_Rolling_error.loc[len(df_Rolling_error)]=Error_Rolling_data\n",
    "        print(str(i)+':'+str(j)+'rolling')\n",
    "        fit_model.plot_diagnostics(figsize=(21,12))\n",
    "        plt.show()\n",
    "        print(fit_model.summary())\n",
    "\n",
    "\n",
    "\n"
   ]
  },
  {
   "cell_type": "code",
   "execution_count": null,
   "id": "3d1893bd",
   "metadata": {
    "colab": {
     "base_uri": "https://localhost:8080/",
     "height": 446
    },
    "id": "3d1893bd",
    "outputId": "5099244f-97f9-4eb5-dc6f-fbc251ba55c8"
   },
   "outputs": [],
   "source": [
    "df"
   ]
  },
  {
   "cell_type": "code",
   "execution_count": null,
   "id": "e3cc0f2c",
   "metadata": {
    "colab": {
     "base_uri": "https://localhost:8080/",
     "height": 446
    },
    "id": "e3cc0f2c",
    "outputId": "b9175273-8c4c-42e4-e1d4-b7a4f2e5f2c0"
   },
   "outputs": [],
   "source": [
    "df_rolling"
   ]
  },
  {
   "cell_type": "code",
   "execution_count": null,
   "id": "98315a6b",
   "metadata": {
    "colab": {
     "base_uri": "https://localhost:8080/",
     "height": 1000
    },
    "id": "98315a6b",
    "outputId": "bff1b3a9-808a-4cbe-ce76-0a6fba41f68e"
   },
   "outputs": [],
   "source": [
    "df_error"
   ]
  },
  {
   "cell_type": "code",
   "execution_count": null,
   "id": "8e2becf6",
   "metadata": {
    "colab": {
     "base_uri": "https://localhost:8080/",
     "height": 275
    },
    "id": "8e2becf6",
    "outputId": "4075c15f-ca86-4ad3-b758-7d90b5107678"
   },
   "outputs": [],
   "source": [
    "#plot rmse for each time slot\n",
    "fig, ax = plt.subplots(figsize=(21,5))\n",
    "plt.plot(df_Rolling_error.iloc[:,0],df_Rolling_error.iloc[:,2], color='green', label='Normalised RMSE, Rolling forecast')\n",
    "plt.plot(df_error.iloc[:,0],df_error.iloc[:,2], color='red', label='Normalised RMSE, Static Forecast')\n",
    "plt.legend()\n",
    "plt.xlabel(\"Time of the day\", fontsize=20)\n",
    "plt.ylabel(\"Energy- KW\", fontsize=20)\n",
    "plt.title('Normalised RMSE for Energy Consumption prediction in the ARIMAX Model', fontsize=20)\n",
    "plt.xticks(rotation = 90)\n",
    "plt.show()"
   ]
  },
  {
   "cell_type": "code",
   "execution_count": null,
   "id": "599186f3",
   "metadata": {
    "colab": {
     "base_uri": "https://localhost:8080/",
     "height": 315
    },
    "id": "599186f3",
    "outputId": "e02b1307-9e8d-44fe-a01d-0404706cc12c"
   },
   "outputs": [],
   "source": [
    "#plot rmse for each time slot\n",
    "fig, ax = plt.subplots(figsize=(21,6))\n",
    "plt.plot(df_Rolling_error.iloc[:,0],df_Rolling_error.iloc[:,1], color='green', label='RMSE, Rolling Forecast')\n",
    "plt.plot(df_error.iloc[:,0],df_error.iloc[:,1], color='red', label='RMSE, Static Forecast')\n",
    "plt.legend()\n",
    "plt.xlabel(\"Time of the day\", fontsize=20)\n",
    "plt.ylabel(\"Energy- KW\", fontsize=20)\n",
    "plt.title('RMSE for Energy Consumption prediction in ARIMAX Model', fontsize=20)\n",
    "plt.xticks(rotation = 90)\n",
    "plt.show()"
   ]
  },
  {
   "cell_type": "code",
   "execution_count": null,
   "id": "18a1e854",
   "metadata": {
    "colab": {
     "base_uri": "https://localhost:8080/"
    },
    "id": "18a1e854",
    "outputId": "3a3ef8e8-ddae-4701-c829-4fbefd48cd83"
   },
   "outputs": [],
   "source": [
    "max(df_Rolling_error['RMSE']) #shows maximum error in time slots"
   ]
  },
  {
   "cell_type": "code",
   "execution_count": null,
   "id": "7bf72527",
   "metadata": {
    "colab": {
     "base_uri": "https://localhost:8080/"
    },
    "id": "7bf72527",
    "outputId": "6869dfec-45bf-43f9-e23b-f2be2fc0a45f"
   },
   "outputs": [],
   "source": [
    "min(df_Rolling_error['RMSE']) #shows minimum error in time slots"
   ]
  },
  {
   "cell_type": "code",
   "execution_count": null,
   "id": "d12290f3",
   "metadata": {
    "colab": {
     "base_uri": "https://localhost:8080/"
    },
    "id": "d12290f3",
    "outputId": "5e89ecca-6cc7-40b2-ddb0-4da33883cc33"
   },
   "outputs": [],
   "source": [
    "average(df_error.iloc[:,1]) #shows average rmse for all time slots in static forecast"
   ]
  },
  {
   "cell_type": "code",
   "execution_count": null,
   "id": "53deeac4",
   "metadata": {
    "colab": {
     "base_uri": "https://localhost:8080/"
    },
    "id": "53deeac4",
    "outputId": "694b1c27-abbf-4fab-bcb7-1309950a76a9"
   },
   "outputs": [],
   "source": [
    "average(df_Rolling_error.iloc[:,1]) #shows average rmse for all time slots in rolling forecast"
   ]
  },
  {
   "cell_type": "code",
   "execution_count": null,
   "id": "a5380fd6",
   "metadata": {
    "colab": {
     "base_uri": "https://localhost:8080/",
     "height": 1000
    },
    "id": "a5380fd6",
    "outputId": "cf67e598-c638-42cf-8073-6745a5c27755",
    "scrolled": true
   },
   "outputs": [],
   "source": [
    "df_p_q #the dataframe that shows us the best order of p and q for each time slot"
   ]
  },
  {
   "cell_type": "code",
   "execution_count": null,
   "id": "a5711b16",
   "metadata": {
    "colab": {
     "base_uri": "https://localhost:8080/",
     "height": 446
    },
    "id": "a5711b16",
    "outputId": "594b4a18-a9ff-448d-adb0-c3ceb90b55eb"
   },
   "outputs": [],
   "source": [
    "df= df.sort_index() #sorting the static prediction based on the date and time\n",
    "df"
   ]
  },
  {
   "cell_type": "code",
   "execution_count": null,
   "id": "0e7ddcd1",
   "metadata": {
    "id": "0e7ddcd1"
   },
   "outputs": [],
   "source": [
    "df_rolling=df_rolling.sort_index() #sorting the rolling prediction based on the date and time"
   ]
  },
  {
   "cell_type": "code",
   "execution_count": null,
   "id": "66770ef9",
   "metadata": {
    "colab": {
     "base_uri": "https://localhost:8080/",
     "height": 249
    },
    "id": "66770ef9",
    "outputId": "4a514a78-03a8-4534-aa67-03c121eb5b7a"
   },
   "outputs": [],
   "source": [
    "#plotting predictions versus real data\n",
    "fig, ax = plt.subplots(figsize=(21,5))\n",
    "plt.plot(energy.iloc[17183:,0], color='black',label='Real Energy Consumption- $X_t$')\n",
    "plt.plot(df.iloc[:,0], color= 'red', alpha=0.7,label=' Predicted Energy Consumption- Static Forecast-'+ ' $\\hat{X}$')\n",
    "plt.plot(df_rolling.iloc[:,0], color='green', label='Predicted Energy Consumption- Rolling forecast-' + ' $\\hat{X}$')\n",
    "#plt.title('Prediction for 1 Week', fontsize=15)\n",
    "#plt.ylabel('Energy (KWh)')\n",
    "plt.xlabel('Date',fontsize=15)\n",
    "plt.legend()\n",
    "plt.show()"
   ]
  },
  {
   "cell_type": "code",
   "execution_count": null,
   "id": "a7eab6eb",
   "metadata": {
    "colab": {
     "base_uri": "https://localhost:8080/"
    },
    "id": "a7eab6eb",
    "outputId": "f2d2df06-7952-46ca-e708-4e5e9aacd375"
   },
   "outputs": [],
   "source": [
    "#calculating mean absolute percentage error in order to compare with other ML models\n",
    "mape = mean_absolute_percentage_error(energy.iloc[17183:,0], df_rolling.iloc[:,0])*100\n",
    "print('Mean Absolute Percentage Error for Rolling forecast:', str(mape)+'%')"
   ]
  },
  {
   "cell_type": "code",
   "execution_count": null,
   "id": "20dzwmxBTeFG",
   "metadata": {
    "colab": {
     "base_uri": "https://localhost:8080/"
    },
    "id": "20dzwmxBTeFG",
    "outputId": "9e7ade1c-8c4a-4863-d575-1dbbde5b3cfc"
   },
   "outputs": [],
   "source": [
    "energy.iloc[17183:,0]"
   ]
  },
  {
   "cell_type": "code",
   "execution_count": null,
   "id": "n3olDFmETs0G",
   "metadata": {
    "colab": {
     "base_uri": "https://localhost:8080/"
    },
    "id": "n3olDFmETs0G",
    "outputId": "972a5464-465c-42e7-ee83-a4e9643d6440"
   },
   "outputs": [],
   "source": [
    "df.iloc[:,0]"
   ]
  },
  {
   "cell_type": "code",
   "execution_count": null,
   "id": "140ca861",
   "metadata": {
    "colab": {
     "base_uri": "https://localhost:8080/"
    },
    "id": "140ca861",
    "outputId": "942d199e-83be-4625-93ac-0e47eb539789"
   },
   "outputs": [],
   "source": [
    "mape = mean_absolute_percentage_error(energy.iloc[17183:,0], df.iloc[:,0])*100\n",
    "print('Mean Absolute Percentage Error for Static forecast:', str(mape)+'%')"
   ]
  },
  {
   "cell_type": "code",
   "execution_count": null,
   "id": "107f8964",
   "metadata": {
    "colab": {
     "base_uri": "https://localhost:8080/"
    },
    "id": "107f8964",
    "outputId": "e8c631c7-f606-4dc2-c8a7-b8d93f205d99"
   },
   "outputs": [],
   "source": [
    "rmse = rmse(energy.iloc[17183:,0], df_rolling.iloc[:,0])\n",
    "print('RMSE for Rolling forecast:', str(rmse)+'%')"
   ]
  },
  {
   "cell_type": "code",
   "execution_count": null,
   "id": "c179f28e",
   "metadata": {
    "id": "c179f28e"
   },
   "outputs": [],
   "source": [
    "#creating a data frame with real data, rolling and static predictions for 1 week (24-30 April)\n",
    "comparing_df= pd.DataFrame(data=energy.iloc[17183:,0], index=energy.iloc[17183:,1].index )\n",
    "comparing_df['Rolling Energy Prediction Values']= df_rolling.iloc[:,0]\n",
    "comparing_df['Energy Prediction Values']= df.iloc[:,0]\n",
    "#residuals for rolling forecast\n",
    "comparing_df['Rolling difference']= comparing_df['Energy']-comparing_df['Rolling Energy Prediction Values']\n"
   ]
  },
  {
   "cell_type": "code",
   "execution_count": null,
   "id": "4f7149ea",
   "metadata": {
    "colab": {
     "base_uri": "https://localhost:8080/",
     "height": 254
    },
    "id": "4f7149ea",
    "outputId": "a73ee7c1-12b6-4f05-8b01-44b6bc71160c"
   },
   "outputs": [],
   "source": [
    "#plotting the whole residuals for rolling forecast\n",
    "fig, ax = plt.subplots(figsize=(20,5))\n",
    "plt.plot(comparing_df['Rolling difference'], color= 'black')\n",
    "plt.title('Residuals for a week prediction')\n",
    "plt.ylabel('Error (kwh)')\n",
    "plt.show()\n"
   ]
  },
  {
   "cell_type": "code",
   "execution_count": null,
   "id": "01cb2d13",
   "metadata": {
    "colab": {
     "base_uri": "https://localhost:8080/",
     "height": 280
    },
    "id": "01cb2d13",
    "outputId": "13396f8f-3e7b-44ea-8663-41257a659ada"
   },
   "outputs": [],
   "source": [
    "#plotting the distribution for the whole residuals (rolling forecast)\n",
    "fig, ax = plt.subplots(figsize=(20,5))\n",
    "\n",
    "sns.distplot(comparing_df['Rolling difference'], hist=True, kde=True,\n",
    "             bins=30, color = 'darkblue',\n",
    "             hist_kws={'edgecolor':'black'},\n",
    "             kde_kws={'linewidth': 4}).set(title= 'Residual Distribution for a week prediction')\n"
   ]
  },
  {
   "cell_type": "code",
   "execution_count": null,
   "id": "69f67143",
   "metadata": {
    "id": "69f67143",
    "outputId": "d4bc2bf1-78d0-4768-890b-562f82c1325a"
   },
   "outputs": [],
   "source": [
    "comparing_df.sort_values('Rolling difference', ascending= False)\n",
    "#box plot to show range of residuals\n",
    "sns.boxplot(data=comparing_df['Rolling difference']).set(title='Range of all residuals')"
   ]
  },
  {
   "cell_type": "code",
   "execution_count": null,
   "id": "873a25b2",
   "metadata": {
    "id": "873a25b2"
   },
   "outputs": [],
   "source": [
    "#get other data, price\n",
    "price= pd.read_csv('Energy Pricing.csv')"
   ]
  },
  {
   "cell_type": "code",
   "execution_count": null,
   "id": "6b0f4358",
   "metadata": {
    "colab": {
     "base_uri": "https://localhost:8080/",
     "height": 446
    },
    "id": "6b0f4358",
    "outputId": "c237bdaa-d68b-4b6b-854f-efb17761cdef"
   },
   "outputs": [],
   "source": [
    "#make the data ready for datetime type\n",
    "price.Date = pd.to_datetime(price.Date)\n",
    "price['Week'] = price.Date.dt.week\n",
    "price['Year'] = price.Date.dt.year\n",
    "price['Month'] = price.Date.dt.month\n",
    "price['Day'] = price.Date.dt.day\n",
    "price['Hour'] = price.Date.dt.hour\n",
    "price[\"Min\"]=price.Date.dt.minute\n",
    "price['Month_Year'] = price['Date'].dt.strftime('%b-%Y')\n",
    "price['Day_Month'] = price['Date'].dt.strftime('%d-%b')\n",
    "price.index= price['Date']\n",
    "del price['Date']\n",
    "price"
   ]
  },
  {
   "cell_type": "code",
   "execution_count": null,
   "id": "2f9f6fde",
   "metadata": {
    "colab": {
     "base_uri": "https://localhost:8080/",
     "height": 341
    },
    "id": "2f9f6fde",
    "outputId": "c26e3ed2-fbf6-4f65-b8df-b5a2df7c7471"
   },
   "outputs": [],
   "source": [
    "#plotting the price and energy together for a one week (last week of april)\n",
    "fig, ax = plt.subplots(figsize=(20,7))\n",
    "plt.plot(price.iloc[-168:-1,0], color='gold', label='Price- Pound/MWH')\n",
    "plt.plot(energy.iloc[17183:,0], color='black', label='$X_t$')\n",
    "#plt.title('Price and Energy consumption comparission', fontsize=20)\n",
    "plt.xlabel('Date', fontsize=15)\n",
    "plt.legend()\n",
    "plt.show()"
   ]
  },
  {
   "cell_type": "markdown",
   "id": "536173c6",
   "metadata": {
    "id": "536173c6"
   },
   "source": [
    "# Optimization"
   ]
  },
  {
   "cell_type": "code",
   "execution_count": null,
   "id": "b11a50bd",
   "metadata": {
    "colab": {
     "base_uri": "https://localhost:8080/",
     "height": 446
    },
    "id": "b11a50bd",
    "outputId": "54110773-582d-4557-91ec-3dceb999f1d2"
   },
   "outputs": [],
   "source": [
    "#prepare a data frame which contains data from rolling forecast prediction for a week;\n",
    "df_rolling['Date']=df_rolling.index\n",
    "df_rolling.Date = pd.to_datetime(df_rolling.Date)\n",
    "df_rolling['Month'] = df_rolling.Date.dt.month\n",
    "df_rolling['Day'] = df_rolling.Date.dt.day\n",
    "del df_rolling['Date']\n",
    "df_rolling"
   ]
  },
  {
   "cell_type": "code",
   "execution_count": null,
   "id": "7b7cb3af",
   "metadata": {
    "id": "7b7cb3af"
   },
   "outputs": [],
   "source": [
    "#defining E as the variables to be optimized with a upper and lower bounds\n",
    "#we have 48 variables each for half an hour (48 time slots)\n",
    "E1_bounds = (min(df_rolling.iloc[:,0]), max(df_rolling.iloc[:,0]))\n",
    "E2_bounds = (min(df_rolling.iloc[:,0]), max(df_rolling.iloc[:,0]))\n",
    "E3_bounds = (min(df_rolling.iloc[:,0]), max(df_rolling.iloc[:,0]))\n",
    "E4_bounds = (min(df_rolling.iloc[:,0]), max(df_rolling.iloc[:,0]))\n",
    "E5_bounds = (min(df_rolling.iloc[:,0]), max(df_rolling.iloc[:,0]))\n",
    "E6_bounds = (min(df_rolling.iloc[:,0]), max(df_rolling.iloc[:,0]))\n",
    "E7_bounds = (min(df_rolling.iloc[:,0]), max(df_rolling.iloc[:,0]))\n",
    "E8_bounds = (min(df_rolling.iloc[:,0]), max(df_rolling.iloc[:,0]))\n",
    "E9_bounds = (min(df_rolling.iloc[:,0]), max(df_rolling.iloc[:,0]))\n",
    "E10_bounds = (min(df_rolling.iloc[:,0]), max(df_rolling.iloc[:,0]))\n",
    "E11_bounds = (min(df_rolling.iloc[:,0]), max(df_rolling.iloc[:,0]))\n",
    "E12_bounds = (min(df_rolling.iloc[:,0]), max(df_rolling.iloc[:,0]))\n",
    "E13_bounds = (min(df_rolling.iloc[:,0]), max(df_rolling.iloc[:,0]))\n",
    "E14_bounds = (min(df_rolling.iloc[:,0]), max(df_rolling.iloc[:,0]))\n",
    "E15_bounds = (min(df_rolling.iloc[:,0]), max(df_rolling.iloc[:,0]))\n",
    "E16_bounds = (min(df_rolling.iloc[:,0]), max(df_rolling.iloc[:,0]))\n",
    "E17_bounds = (min(df_rolling.iloc[:,0]), max(df_rolling.iloc[:,0]))\n",
    "E18_bounds = (min(df_rolling.iloc[:,0]), max(df_rolling.iloc[:,0]))\n",
    "E19_bounds = (min(df_rolling.iloc[:,0]), max(df_rolling.iloc[:,0]))\n",
    "E20_bounds = (min(df_rolling.iloc[:,0]), max(df_rolling.iloc[:,0]))\n",
    "E21_bounds = (min(df_rolling.iloc[:,0]), max(df_rolling.iloc[:,0]))\n",
    "E22_bounds = (min(df_rolling.iloc[:,0]), max(df_rolling.iloc[:,0]))\n",
    "E23_bounds = (min(df_rolling.iloc[:,0]), max(df_rolling.iloc[:,0]))\n",
    "E24_bounds = (min(df_rolling.iloc[:,0]), max(df_rolling.iloc[:,0]))\n",
    "E25_bounds = (min(df_rolling.iloc[:,0]), max(df_rolling.iloc[:,0]))\n",
    "E26_bounds = (min(df_rolling.iloc[:,0]), max(df_rolling.iloc[:,0]))\n",
    "E27_bounds = (min(df_rolling.iloc[:,0]), max(df_rolling.iloc[:,0]))\n",
    "E28_bounds = (min(df_rolling.iloc[:,0]), max(df_rolling.iloc[:,0]))\n",
    "E29_bounds = (min(df_rolling.iloc[:,0]), max(df_rolling.iloc[:,0]))\n",
    "E30_bounds = (min(df_rolling.iloc[:,0]), max(df_rolling.iloc[:,0]))\n",
    "E31_bounds = (min(df_rolling.iloc[:,0]), max(df_rolling.iloc[:,0]))\n",
    "E32_bounds = (min(df_rolling.iloc[:,0]), max(df_rolling.iloc[:,0]))\n",
    "E33_bounds = (min(df_rolling.iloc[:,0]), max(df_rolling.iloc[:,0]))\n",
    "E34_bounds = (min(df_rolling.iloc[:,0]), max(df_rolling.iloc[:,0]))\n",
    "E35_bounds = (min(df_rolling.iloc[:,0]), max(df_rolling.iloc[:,0]))\n",
    "E36_bounds = (min(df_rolling.iloc[:,0]), max(df_rolling.iloc[:,0]))\n",
    "E37_bounds = (min(df_rolling.iloc[:,0]), max(df_rolling.iloc[:,0]))\n",
    "E38_bounds = (min(df_rolling.iloc[:,0]), max(df_rolling.iloc[:,0]))\n",
    "E39_bounds = (min(df_rolling.iloc[:,0]), max(df_rolling.iloc[:,0]))\n",
    "E40_bounds = (min(df_rolling.iloc[:,0]), max(df_rolling.iloc[:,0]))\n",
    "E41_bounds = (min(df_rolling.iloc[:,0]), max(df_rolling.iloc[:,0]))\n",
    "E42_bounds = (min(df_rolling.iloc[:,0]), max(df_rolling.iloc[:,0]))\n",
    "E43_bounds = (min(df_rolling.iloc[:,0]), max(df_rolling.iloc[:,0]))\n",
    "E44_bounds = (min(df_rolling.iloc[:,0]), max(df_rolling.iloc[:,0]))\n",
    "E45_bounds = (min(df_rolling.iloc[:,0]), max(df_rolling.iloc[:,0]))\n",
    "E46_bounds = (min(df_rolling.iloc[:,0]), max(df_rolling.iloc[:,0]))\n",
    "E47_bounds = (min(df_rolling.iloc[:,0]), max(df_rolling.iloc[:,0]))\n",
    "E48_bounds = (min(df_rolling.iloc[:,0]), max(df_rolling.iloc[:,0]))"
   ]
  },
  {
   "cell_type": "code",
   "execution_count": null,
   "id": "7f761da7",
   "metadata": {
    "colab": {
     "base_uri": "https://localhost:8080/"
    },
    "id": "7f761da7",
    "outputId": "c7cbdc4e-933d-4d60-f197-6808b4bdfb85"
   },
   "outputs": [],
   "source": [
    "#predicting for 24th of April\n",
    "predicted_energy= df_rolling.loc[(df_rolling['Month'] == 4)&(df_rolling['Day'] == 24)] #get the data for 24th\n",
    "b=price.loc[(price['Month'] == 4)&(price['Day'] == 24)] #get price for 24th\n",
    "predicted_energy['price']=b.iloc[:,0]\n",
    "for i in range (0,48):\n",
    "    if i%2==1:\n",
    "        predicted_energy['price'][i]=predicted_energy['price'][i-1] #define price values for half hours\n",
    "predicted_energy.columns = ['Predicted_Energy','Month', 'Day', 'Price']\n",
    "\n",
    "f=[] #price of total enery used before optimization\n",
    "for i in range(0,48):\n",
    "    f.append(predicted_energy['Predicted_Energy'][i]*predicted_energy['Price'][i]*0.001)\n",
    "\n",
    "\n",
    "\n",
    "# declare coefficients of the objective function which is price\n",
    "c = list(predicted_energy['Price']*0.001)\n",
    "\n",
    "# declare the inequality constraint matrix\n",
    "A = [[-1,-1,-1,-1,-1,-1,-1,-1,-1,-1,-1,-1,0,0,0,0,0,0,0,0,0,0,0,0,0,0,0,0,0,0,0,0,0,0,0,0,0,0,0,0,0,0,0,0,0,0,0,0],\n",
    "     [0,0,0,0,0,0,0,0,0,0,0,0,-1,-1,-1,-1,-1,-1,-1,-1,-1,-1,-1,-1,0,0,0,0,0,0,0,0,0,0,0,0,0,0,0,0,0,0,0,0,0,0,0,0],\n",
    "     [0,0,0,0,0,0,0,0,0,0,0,0,0,0,0,0,0,0,0,0,0,0,0,0,-1,-1,-1,-1,-1,-1,-1,-1,-1,-1,-1,-1,0,0,0,0,0,0,0,0,0,0,0,0],\n",
    "     [0,0,0,0,0,0,0,0,0,0,0,0,0,0,0,0,0,0,0,0,0,0,0,0,0,0,0,0,0,0,0,0,0,0,0,0,-1,-1,-1,-1,-1,-1,-1,-1,-1,-1,-1,-1]]\n",
    "\n",
    "# declare the inequality constraint vector\n",
    "b = [-sum(predicted_energy.iloc[0:12,0]), -sum(predicted_energy.iloc[12:24,0]), -sum(predicted_energy.iloc[24:36,0]),-sum(predicted_energy.iloc[36:48,0])]\n",
    "\n",
    "# solve\n",
    "results = linprog(c=c, A_ub=A, b_ub=b, bounds=[E1_bounds, E2_bounds,E3_bounds, E4_bounds,\n",
    "                                              E5_bounds, E6_bounds,E7_bounds, E8_bounds,\n",
    "                                              E9_bounds, E10_bounds,E11_bounds, E12_bounds,\n",
    "                                              E13_bounds, E14_bounds,E15_bounds, E16_bounds,\n",
    "                                              E17_bounds, E18_bounds,E19_bounds, E20_bounds,\n",
    "                                              E21_bounds, E22_bounds,E23_bounds, E24_bounds,\n",
    "                                              E25_bounds, E26_bounds,E27_bounds, E28_bounds,\n",
    "                                              E29_bounds, E30_bounds,E31_bounds, E32_bounds,\n",
    "                                              E33_bounds, E34_bounds,E35_bounds, E36_bounds,\n",
    "                                              E37_bounds, E38_bounds,E39_bounds, E40_bounds,\n",
    "                                              E41_bounds, E42_bounds,E43_bounds, E44_bounds,\n",
    "                                              E45_bounds, E46_bounds,E47_bounds, E48_bounds], method='simplex')\n",
    "\n",
    "# print results\n",
    "if results.status == 0: print(f'The solution is optimal.')\n",
    "print(f'Objective value: z* = {results.fun}')\n",
    "\n",
    "Optimized_24=[]\n",
    "for i in range(0,48):\n",
    "    Optimized_24.append(results.x[i])\n",
    "Optimized_df= pd.DataFrame(data=Optimized_24, index=predicted_energy.index) #make a dataframe contains the optimized values\n",
    "\n",
    "#optimized value\n",
    "print('Percent of saved money:',((sum(f)-results.fun)/sum(f))*100)\n",
    "z_star=[]\n",
    "z_star.append(results.fun)\n",
    "F=[]\n",
    "F.append(sum(f))"
   ]
  },
  {
   "cell_type": "code",
   "execution_count": null,
   "id": "894d1d74",
   "metadata": {
    "colab": {
     "base_uri": "https://localhost:8080/"
    },
    "id": "894d1d74",
    "outputId": "005f70a8-8150-4069-abad-5265f4496b6e"
   },
   "outputs": [],
   "source": [
    "#predicting for 25th of April\n",
    "predicted_energy= df_rolling.loc[(df_rolling['Month'] == 4)&(df_rolling['Day'] == 25)]\n",
    "b=price.loc[(price['Month'] == 4)&(price['Day'] == 25)]\n",
    "predicted_energy['price']=b.iloc[:,0]\n",
    "for i in range (0,48):\n",
    "    if i%2==1:\n",
    "        predicted_energy['price'][i]=predicted_energy['price'][i-1]\n",
    "predicted_energy.columns = ['Predicted_Energy','Month', 'Day', 'Price']\n",
    "\n",
    "f=[]\n",
    "for i in range(0,48):\n",
    "    f.append(predicted_energy['Predicted_Energy'][i]*predicted_energy['Price'][i]*0.001)\n",
    "\n",
    "\n",
    "\n",
    "# declare coefficients of the objective function\n",
    "c = list(predicted_energy['Price']*0.001)\n",
    "\n",
    "# declare the inequality constraint matrix\n",
    "A = [[-1,-1,-1,-1,-1,-1,-1,-1,-1,-1,-1,-1,0,0,0,0,0,0,0,0,0,0,0,0,0,0,0,0,0,0,0,0,0,0,0,0,0,0,0,0,0,0,0,0,0,0,0,0],\n",
    "     [0,0,0,0,0,0,0,0,0,0,0,0,-1,-1,-1,-1,-1,-1,-1,-1,-1,-1,-1,-1,0,0,0,0,0,0,0,0,0,0,0,0,0,0,0,0,0,0,0,0,0,0,0,0],\n",
    "     [0,0,0,0,0,0,0,0,0,0,0,0,0,0,0,0,0,0,0,0,0,0,0,0,-1,-1,-1,-1,-1,-1,-1,-1,-1,-1,-1,-1,0,0,0,0,0,0,0,0,0,0,0,0],\n",
    "     [0,0,0,0,0,0,0,0,0,0,0,0,0,0,0,0,0,0,0,0,0,0,0,0,0,0,0,0,0,0,0,0,0,0,0,0,-1,-1,-1,-1,-1,-1,-1,-1,-1,-1,-1,-1]]\n",
    "\n",
    "# declare the inequality constraint vector\n",
    "b = [-sum(predicted_energy.iloc[0:12,0]), -sum(predicted_energy.iloc[12:24,0]), -sum(predicted_energy.iloc[24:36,0]),-sum(predicted_energy.iloc[36:48,0])]\n",
    "\n",
    "# solve\n",
    "results = linprog(c=c, A_ub=A, b_ub=b, bounds=[E1_bounds, E2_bounds,E3_bounds, E4_bounds,\n",
    "                                              E5_bounds, E6_bounds,E7_bounds, E8_bounds,\n",
    "                                              E9_bounds, E10_bounds,E11_bounds, E12_bounds,\n",
    "                                              E13_bounds, E14_bounds,E15_bounds, E16_bounds,\n",
    "                                              E17_bounds, E18_bounds,E19_bounds, E20_bounds,\n",
    "                                              E21_bounds, E22_bounds,E23_bounds, E24_bounds,\n",
    "                                              E25_bounds, E26_bounds,E27_bounds, E28_bounds,\n",
    "                                              E29_bounds, E30_bounds,E31_bounds, E32_bounds,\n",
    "                                              E33_bounds, E34_bounds,E35_bounds, E36_bounds,\n",
    "                                              E37_bounds, E38_bounds,E39_bounds, E40_bounds,\n",
    "                                              E41_bounds, E42_bounds,E43_bounds, E44_bounds,\n",
    "                                              E45_bounds, E46_bounds,E47_bounds, E48_bounds], method='simplex')\n",
    "\n",
    "# print results\n",
    "if results.status == 0: print(f'The solution is optimal.')\n",
    "print(f'Objective value: z* = {results.fun}')\n",
    "\n",
    "Optimized_24=[]\n",
    "for i in range(0,48):\n",
    "    Optimized_24.append(results.x[i])\n",
    "Optimized_df= Optimized_df.append(pd.DataFrame(data=Optimized_24, index=predicted_energy.index))\n",
    "\n",
    "#optimized value\n",
    "print('Percent of saved money:',((sum(f)-results.fun)/sum(f))*100)\n",
    "z_star.append(results.fun)\n",
    "F.append(sum(f))"
   ]
  },
  {
   "cell_type": "code",
   "execution_count": null,
   "id": "870943e4",
   "metadata": {
    "colab": {
     "base_uri": "https://localhost:8080/"
    },
    "id": "870943e4",
    "outputId": "6a9dad7a-4604-4c9c-b0f2-e7e80632b310"
   },
   "outputs": [],
   "source": [
    "#predicting for 26th of April\n",
    "predicted_energy= df_rolling.loc[(df_rolling['Month'] == 4)&(df_rolling['Day'] == 26)]\n",
    "b=price.loc[(price['Month'] == 4)&(price['Day'] == 26)]\n",
    "predicted_energy['price']=b.iloc[:,0]\n",
    "for i in range (0,48):\n",
    "    if i%2==1:\n",
    "        predicted_energy['price'][i]=predicted_energy['price'][i-1]\n",
    "predicted_energy.columns = ['Predicted_Energy','Month', 'Day', 'Price']\n",
    "\n",
    "f=[]\n",
    "for i in range(0,48):\n",
    "    f.append(predicted_energy['Predicted_Energy'][i]*predicted_energy['Price'][i]*0.001)\n",
    "\n",
    "\n",
    "\n",
    "# declare coefficients of the objective function\n",
    "c = list(predicted_energy['Price']*0.001)\n",
    "\n",
    "# declare the inequality constraint matrix\n",
    "A = [[-1,-1,-1,-1,-1,-1,-1,-1,-1,-1,-1,-1,0,0,0,0,0,0,0,0,0,0,0,0,0,0,0,0,0,0,0,0,0,0,0,0,0,0,0,0,0,0,0,0,0,0,0,0],\n",
    "     [0,0,0,0,0,0,0,0,0,0,0,0,-1,-1,-1,-1,-1,-1,-1,-1,-1,-1,-1,-1,0,0,0,0,0,0,0,0,0,0,0,0,0,0,0,0,0,0,0,0,0,0,0,0],\n",
    "     [0,0,0,0,0,0,0,0,0,0,0,0,0,0,0,0,0,0,0,0,0,0,0,0,-1,-1,-1,-1,-1,-1,-1,-1,-1,-1,-1,-1,0,0,0,0,0,0,0,0,0,0,0,0],\n",
    "     [0,0,0,0,0,0,0,0,0,0,0,0,0,0,0,0,0,0,0,0,0,0,0,0,0,0,0,0,0,0,0,0,0,0,0,0,-1,-1,-1,-1,-1,-1,-1,-1,-1,-1,-1,-1]]\n",
    "\n",
    "# declare the inequality constraint vector\n",
    "b = [-sum(predicted_energy.iloc[0:12,0]), -sum(predicted_energy.iloc[12:24,0]), -sum(predicted_energy.iloc[24:36,0]),-sum(predicted_energy.iloc[36:48,0])]\n",
    "\n",
    "# solve\n",
    "results = linprog(c=c, A_ub=A, b_ub=b, bounds=[E1_bounds, E2_bounds,E3_bounds, E4_bounds,\n",
    "                                              E5_bounds, E6_bounds,E7_bounds, E8_bounds,\n",
    "                                              E9_bounds, E10_bounds,E11_bounds, E12_bounds,\n",
    "                                              E13_bounds, E14_bounds,E15_bounds, E16_bounds,\n",
    "                                              E17_bounds, E18_bounds,E19_bounds, E20_bounds,\n",
    "                                              E21_bounds, E22_bounds,E23_bounds, E24_bounds,\n",
    "                                              E25_bounds, E26_bounds,E27_bounds, E28_bounds,\n",
    "                                              E29_bounds, E30_bounds,E31_bounds, E32_bounds,\n",
    "                                              E33_bounds, E34_bounds,E35_bounds, E36_bounds,\n",
    "                                              E37_bounds, E38_bounds,E39_bounds, E40_bounds,\n",
    "                                              E41_bounds, E42_bounds,E43_bounds, E44_bounds,\n",
    "                                              E45_bounds, E46_bounds,E47_bounds, E48_bounds], method='simplex')\n",
    "\n",
    "# print results\n",
    "if results.status == 0: print(f'The solution is optimal.')\n",
    "print(f'Objective value: z* = {results.fun}')\n",
    "\n",
    "Optimized_24=[]\n",
    "for i in range(0,48):\n",
    "    Optimized_24.append(results.x[i])\n",
    "Optimized_df= Optimized_df.append(pd.DataFrame(data=Optimized_24, index=predicted_energy.index))\n",
    "\n",
    "#optimized value\n",
    "print('Percent of saved money:',((sum(f)-results.fun)/sum(f))*100)\n",
    "z_star.append(results.fun)\n",
    "F.append(sum(f))"
   ]
  },
  {
   "cell_type": "code",
   "execution_count": null,
   "id": "011d3fe2",
   "metadata": {
    "colab": {
     "base_uri": "https://localhost:8080/"
    },
    "id": "011d3fe2",
    "outputId": "f72fbd8f-09d8-4d8a-f2a5-59265ece8bcd"
   },
   "outputs": [],
   "source": [
    "#predicting for 27th of April\n",
    "predicted_energy= df_rolling.loc[(df_rolling['Month'] == 4)&(df_rolling['Day'] == 27)]\n",
    "b=price.loc[(price['Month'] == 4)&(price['Day'] == 27)]\n",
    "predicted_energy['price']=b.iloc[:,0]\n",
    "for i in range (0,48):\n",
    "    if i%2==1:\n",
    "        predicted_energy['price'][i]=predicted_energy['price'][i-1]\n",
    "predicted_energy.columns = ['Predicted_Energy','Month', 'Day', 'Price']\n",
    "\n",
    "f=[]\n",
    "for i in range(0,48):\n",
    "    f.append(predicted_energy['Predicted_Energy'][i]*predicted_energy['Price'][i]*0.001)\n",
    "\n",
    "\n",
    "\n",
    "# declare coefficients of the objective function\n",
    "c = list(predicted_energy['Price']*0.001)\n",
    "\n",
    "# declare the inequality constraint matrix\n",
    "A = [[-1,-1,-1,-1,-1,-1,-1,-1,-1,-1,-1,-1,0,0,0,0,0,0,0,0,0,0,0,0,0,0,0,0,0,0,0,0,0,0,0,0,0,0,0,0,0,0,0,0,0,0,0,0],\n",
    "     [0,0,0,0,0,0,0,0,0,0,0,0,-1,-1,-1,-1,-1,-1,-1,-1,-1,-1,-1,-1,0,0,0,0,0,0,0,0,0,0,0,0,0,0,0,0,0,0,0,0,0,0,0,0],\n",
    "     [0,0,0,0,0,0,0,0,0,0,0,0,0,0,0,0,0,0,0,0,0,0,0,0,-1,-1,-1,-1,-1,-1,-1,-1,-1,-1,-1,-1,0,0,0,0,0,0,0,0,0,0,0,0],\n",
    "     [0,0,0,0,0,0,0,0,0,0,0,0,0,0,0,0,0,0,0,0,0,0,0,0,0,0,0,0,0,0,0,0,0,0,0,0,-1,-1,-1,-1,-1,-1,-1,-1,-1,-1,-1,-1]]\n",
    "\n",
    "# declare the inequality constraint vector\n",
    "b = [-sum(predicted_energy.iloc[0:12,0]), -sum(predicted_energy.iloc[12:24,0]), -sum(predicted_energy.iloc[24:36,0]),-sum(predicted_energy.iloc[36:48,0])]\n",
    "\n",
    "# solve\n",
    "results = linprog(c=c, A_ub=A, b_ub=b, bounds=[E1_bounds, E2_bounds,E3_bounds, E4_bounds,\n",
    "                                              E5_bounds, E6_bounds,E7_bounds, E8_bounds,\n",
    "                                              E9_bounds, E10_bounds,E11_bounds, E12_bounds,\n",
    "                                              E13_bounds, E14_bounds,E15_bounds, E16_bounds,\n",
    "                                              E17_bounds, E18_bounds,E19_bounds, E20_bounds,\n",
    "                                              E21_bounds, E22_bounds,E23_bounds, E24_bounds,\n",
    "                                              E25_bounds, E26_bounds,E27_bounds, E28_bounds,\n",
    "                                              E29_bounds, E30_bounds,E31_bounds, E32_bounds,\n",
    "                                              E33_bounds, E34_bounds,E35_bounds, E36_bounds,\n",
    "                                              E37_bounds, E38_bounds,E39_bounds, E40_bounds,\n",
    "                                              E41_bounds, E42_bounds,E43_bounds, E44_bounds,\n",
    "                                              E45_bounds, E46_bounds,E47_bounds, E48_bounds], method='simplex')\n",
    "\n",
    "# print results\n",
    "if results.status == 0: print(f'The solution is optimal.')\n",
    "print(f'Objective value: z* = {results.fun}')\n",
    "\n",
    "Optimized_24=[]\n",
    "for i in range(0,48):\n",
    "    Optimized_24.append(results.x[i])\n",
    "Optimized_df= Optimized_df.append(pd.DataFrame(data=Optimized_24, index=predicted_energy.index))\n",
    "\n",
    "#optimized value\n",
    "print('Percent of saved money:',((sum(f)-results.fun)/sum(f))*100)\n",
    "z_star.append(results.fun)\n",
    "F.append(sum(f))"
   ]
  },
  {
   "cell_type": "code",
   "execution_count": null,
   "id": "b8c8c545",
   "metadata": {
    "colab": {
     "base_uri": "https://localhost:8080/"
    },
    "id": "b8c8c545",
    "outputId": "d11189f3-b72d-478b-86b3-4fbd12283c99"
   },
   "outputs": [],
   "source": [
    "#predicting for 28th of April\n",
    "predicted_energy= df_rolling.loc[(df_rolling['Month'] == 4)&(df_rolling['Day'] == 28)]\n",
    "b=price.loc[(price['Month'] == 4)&(price['Day'] == 28)]\n",
    "predicted_energy['price']=b.iloc[:,0]\n",
    "for i in range (0,48):\n",
    "    if i%2==1:\n",
    "        predicted_energy['price'][i]=predicted_energy['price'][i-1]\n",
    "predicted_energy.columns = ['Predicted_Energy','Month', 'Day', 'Price']\n",
    "\n",
    "f=[]\n",
    "for i in range(0,48):\n",
    "    f.append(predicted_energy['Predicted_Energy'][i]*predicted_energy['Price'][i]*0.001)\n",
    "\n",
    "\n",
    "\n",
    "# declare coefficients of the objective function\n",
    "c = list(predicted_energy['Price']*0.001)\n",
    "\n",
    "# declare the inequality constraint matrix\n",
    "A = [[-1,-1,-1,-1,-1,-1,-1,-1,-1,-1,-1,-1,0,0,0,0,0,0,0,0,0,0,0,0,0,0,0,0,0,0,0,0,0,0,0,0,0,0,0,0,0,0,0,0,0,0,0,0],\n",
    "     [0,0,0,0,0,0,0,0,0,0,0,0,-1,-1,-1,-1,-1,-1,-1,-1,-1,-1,-1,-1,0,0,0,0,0,0,0,0,0,0,0,0,0,0,0,0,0,0,0,0,0,0,0,0],\n",
    "     [0,0,0,0,0,0,0,0,0,0,0,0,0,0,0,0,0,0,0,0,0,0,0,0,-1,-1,-1,-1,-1,-1,-1,-1,-1,-1,-1,-1,0,0,0,0,0,0,0,0,0,0,0,0],\n",
    "     [0,0,0,0,0,0,0,0,0,0,0,0,0,0,0,0,0,0,0,0,0,0,0,0,0,0,0,0,0,0,0,0,0,0,0,0,-1,-1,-1,-1,-1,-1,-1,-1,-1,-1,-1,-1]]\n",
    "\n",
    "# declare the inequality constraint vector\n",
    "b = [-sum(predicted_energy.iloc[0:12,0]), -sum(predicted_energy.iloc[12:24,0]), -sum(predicted_energy.iloc[24:36,0]),-sum(predicted_energy.iloc[36:48,0])]\n",
    "\n",
    "# solve\n",
    "results = linprog(c=c, A_ub=A, b_ub=b, bounds=[E1_bounds, E2_bounds,E3_bounds, E4_bounds,\n",
    "                                              E5_bounds, E6_bounds,E7_bounds, E8_bounds,\n",
    "                                              E9_bounds, E10_bounds,E11_bounds, E12_bounds,\n",
    "                                              E13_bounds, E14_bounds,E15_bounds, E16_bounds,\n",
    "                                              E17_bounds, E18_bounds,E19_bounds, E20_bounds,\n",
    "                                              E21_bounds, E22_bounds,E23_bounds, E24_bounds,\n",
    "                                              E25_bounds, E26_bounds,E27_bounds, E28_bounds,\n",
    "                                              E29_bounds, E30_bounds,E31_bounds, E32_bounds,\n",
    "                                              E33_bounds, E34_bounds,E35_bounds, E36_bounds,\n",
    "                                              E37_bounds, E38_bounds,E39_bounds, E40_bounds,\n",
    "                                              E41_bounds, E42_bounds,E43_bounds, E44_bounds,\n",
    "                                              E45_bounds, E46_bounds,E47_bounds, E48_bounds], method='simplex')\n",
    "\n",
    "# print results\n",
    "if results.status == 0: print(f'The solution is optimal.')\n",
    "print(f'Objective value: z* = {results.fun}')\n",
    "\n",
    "Optimized_24=[]\n",
    "for i in range(0,48):\n",
    "    Optimized_24.append(results.x[i])\n",
    "Optimized_df= Optimized_df.append(pd.DataFrame(data=Optimized_24, index=predicted_energy.index))\n",
    "\n",
    "#optimized value\n",
    "print('Percent of saved money:',((sum(f)-results.fun)/sum(f))*100)\n",
    "z_star.append(results.fun)\n",
    "F.append(sum(f))"
   ]
  },
  {
   "cell_type": "code",
   "execution_count": null,
   "id": "bc829108",
   "metadata": {
    "colab": {
     "base_uri": "https://localhost:8080/"
    },
    "id": "bc829108",
    "outputId": "2ca86f59-2fae-4c36-c63b-a085464d4ea6"
   },
   "outputs": [],
   "source": [
    "#predicting for 29th of April\n",
    "predicted_energy= df_rolling.loc[(df_rolling['Month'] == 4)&(df_rolling['Day'] == 29)]\n",
    "b=price.loc[(price['Month'] == 4)&(price['Day'] == 29)]\n",
    "predicted_energy['price']=b.iloc[:,0]\n",
    "for i in range (0,48):\n",
    "    if i%2==1:\n",
    "        predicted_energy['price'][i]=predicted_energy['price'][i-1]\n",
    "predicted_energy.columns = ['Predicted_Energy','Month', 'Day', 'Price']\n",
    "\n",
    "f=[]\n",
    "for i in range(0,48):\n",
    "    f.append(predicted_energy['Predicted_Energy'][i]*predicted_energy['Price'][i]*0.001)\n",
    "\n",
    "\n",
    "\n",
    "# declare coefficients of the objective function\n",
    "c = list(predicted_energy['Price']*0.001)\n",
    "\n",
    "# declare the inequality constraint matrix\n",
    "A = [[-1,-1,-1,-1,-1,-1,-1,-1,-1,-1,-1,-1,0,0,0,0,0,0,0,0,0,0,0,0,0,0,0,0,0,0,0,0,0,0,0,0,0,0,0,0,0,0,0,0,0,0,0,0],\n",
    "     [0,0,0,0,0,0,0,0,0,0,0,0,-1,-1,-1,-1,-1,-1,-1,-1,-1,-1,-1,-1,0,0,0,0,0,0,0,0,0,0,0,0,0,0,0,0,0,0,0,0,0,0,0,0],\n",
    "     [0,0,0,0,0,0,0,0,0,0,0,0,0,0,0,0,0,0,0,0,0,0,0,0,-1,-1,-1,-1,-1,-1,-1,-1,-1,-1,-1,-1,0,0,0,0,0,0,0,0,0,0,0,0],\n",
    "     [0,0,0,0,0,0,0,0,0,0,0,0,0,0,0,0,0,0,0,0,0,0,0,0,0,0,0,0,0,0,0,0,0,0,0,0,-1,-1,-1,-1,-1,-1,-1,-1,-1,-1,-1,-1]]\n",
    "\n",
    "# declare the inequality constraint vector\n",
    "b = [-sum(predicted_energy.iloc[0:12,0]), -sum(predicted_energy.iloc[12:24,0]), -sum(predicted_energy.iloc[24:36,0]),-sum(predicted_energy.iloc[36:48,0])]\n",
    "\n",
    "# solve\n",
    "results = linprog(c=c, A_ub=A, b_ub=b, bounds=[E1_bounds, E2_bounds,E3_bounds, E4_bounds,\n",
    "                                              E5_bounds, E6_bounds,E7_bounds, E8_bounds,\n",
    "                                              E9_bounds, E10_bounds,E11_bounds, E12_bounds,\n",
    "                                              E13_bounds, E14_bounds,E15_bounds, E16_bounds,\n",
    "                                              E17_bounds, E18_bounds,E19_bounds, E20_bounds,\n",
    "                                              E21_bounds, E22_bounds,E23_bounds, E24_bounds,\n",
    "                                              E25_bounds, E26_bounds,E27_bounds, E28_bounds,\n",
    "                                              E29_bounds, E30_bounds,E31_bounds, E32_bounds,\n",
    "                                              E33_bounds, E34_bounds,E35_bounds, E36_bounds,\n",
    "                                              E37_bounds, E38_bounds,E39_bounds, E40_bounds,\n",
    "                                              E41_bounds, E42_bounds,E43_bounds, E44_bounds,\n",
    "                                              E45_bounds, E46_bounds,E47_bounds, E48_bounds], method='simplex')\n",
    "\n",
    "# print results\n",
    "if results.status == 0: print(f'The solution is optimal.')\n",
    "print(f'Objective value: z* = {results.fun}')\n",
    "\n",
    "Optimized_24=[]\n",
    "for i in range(0,48):\n",
    "    Optimized_24.append(results.x[i])\n",
    "Optimized_df= Optimized_df.append(pd.DataFrame(data=Optimized_24, index=predicted_energy.index))\n",
    "\n",
    "#optimized value\n",
    "print('Percent of saved money:',((sum(f)-results.fun)/sum(f))*100)\n",
    "z_star.append(results.fun)\n",
    "F.append(sum(f))"
   ]
  },
  {
   "cell_type": "code",
   "execution_count": null,
   "id": "ea1c8468",
   "metadata": {
    "colab": {
     "base_uri": "https://localhost:8080/"
    },
    "id": "ea1c8468",
    "outputId": "d47c71a8-5bee-43de-de61-083dfaebf737"
   },
   "outputs": [],
   "source": [
    "#predicting for 30th of April\n",
    "predicted_energy= df_rolling.loc[(df_rolling['Month'] == 4)&(df_rolling['Day'] == 30)]\n",
    "b=price.loc[(price['Month'] == 4)&(price['Day'] == 30)]\n",
    "predicted_energy['price']=b.iloc[:,0]\n",
    "for i in range (0,48):\n",
    "    if i%2==1:\n",
    "        predicted_energy['price'][i]=predicted_energy['price'][i-1]\n",
    "predicted_energy.columns = ['Predicted_Energy','Month', 'Day', 'Price']\n",
    "\n",
    "f=[]\n",
    "for i in range(0,48):\n",
    "    f.append(predicted_energy['Predicted_Energy'][i]*predicted_energy['Price'][i]*0.001)\n",
    "\n",
    "\n",
    "\n",
    "# declare coefficients of the objective function\n",
    "c = list(predicted_energy['Price']*0.001)\n",
    "\n",
    "# declare the inequality constraint matrix\n",
    "A = [[-1,-1,-1,-1,-1,-1,-1,-1,-1,-1,-1,-1,0,0,0,0,0,0,0,0,0,0,0,0,0,0,0,0,0,0,0,0,0,0,0,0,0,0,0,0,0,0,0,0,0,0,0,0],\n",
    "     [0,0,0,0,0,0,0,0,0,0,0,0,-1,-1,-1,-1,-1,-1,-1,-1,-1,-1,-1,-1,0,0,0,0,0,0,0,0,0,0,0,0,0,0,0,0,0,0,0,0,0,0,0,0],\n",
    "     [0,0,0,0,0,0,0,0,0,0,0,0,0,0,0,0,0,0,0,0,0,0,0,0,-1,-1,-1,-1,-1,-1,-1,-1,-1,-1,-1,-1,0,0,0,0,0,0,0,0,0,0,0,0],\n",
    "     [0,0,0,0,0,0,0,0,0,0,0,0,0,0,0,0,0,0,0,0,0,0,0,0,0,0,0,0,0,0,0,0,0,0,0,0,-1,-1,-1,-1,-1,-1,-1,-1,-1,-1,-1,-1]]\n",
    "\n",
    "# declare the inequality constraint vector\n",
    "b = [-sum(predicted_energy.iloc[0:12,0]), -sum(predicted_energy.iloc[12:24,0]), -sum(predicted_energy.iloc[24:36,0]),-sum(predicted_energy.iloc[36:48,0])]\n",
    "\n",
    "# solve\n",
    "results = linprog(c=c, A_ub=A, b_ub=b, bounds=[E1_bounds, E2_bounds,E3_bounds, E4_bounds,\n",
    "                                              E5_bounds, E6_bounds,E7_bounds, E8_bounds,\n",
    "                                              E9_bounds, E10_bounds,E11_bounds, E12_bounds,\n",
    "                                              E13_bounds, E14_bounds,E15_bounds, E16_bounds,\n",
    "                                              E17_bounds, E18_bounds,E19_bounds, E20_bounds,\n",
    "                                              E21_bounds, E22_bounds,E23_bounds, E24_bounds,\n",
    "                                              E25_bounds, E26_bounds,E27_bounds, E28_bounds,\n",
    "                                              E29_bounds, E30_bounds,E31_bounds, E32_bounds,\n",
    "                                              E33_bounds, E34_bounds,E35_bounds, E36_bounds,\n",
    "                                              E37_bounds, E38_bounds,E39_bounds, E40_bounds,\n",
    "                                              E41_bounds, E42_bounds,E43_bounds, E44_bounds,\n",
    "                                              E45_bounds, E46_bounds,E47_bounds, E48_bounds], method='simplex')\n",
    "\n",
    "# print results\n",
    "if results.status == 0: print(f'The solution is optimal.')\n",
    "print(f'Objective value: z* = {results.fun}')\n",
    "\n",
    "Optimized_24=[]\n",
    "for i in range(0,48):\n",
    "    Optimized_24.append(results.x[i])\n",
    "Optimized_df= Optimized_df.append(pd.DataFrame(data=Optimized_24, index=predicted_energy.index))\n",
    "\n",
    "#optimized value\n",
    "print('Percent of saved money:',((sum(f)-results.fun)/sum(f))*100)\n",
    "z_star.append(results.fun)\n",
    "F.append(sum(f))"
   ]
  },
  {
   "cell_type": "code",
   "execution_count": null,
   "id": "a3e2b546",
   "metadata": {
    "colab": {
     "base_uri": "https://localhost:8080/",
     "height": 446
    },
    "id": "a3e2b546",
    "outputId": "1fd585ee-ea49-43e4-f157-ab7d8227adc4"
   },
   "outputs": [],
   "source": [
    "Optimized_df.columns=['Optimized Energy']\n",
    "Optimized_df"
   ]
  },
  {
   "cell_type": "code",
   "execution_count": null,
   "id": "7797fe31",
   "metadata": {
    "colab": {
     "base_uri": "https://localhost:8080/"
    },
    "id": "7797fe31",
    "outputId": "fa9c7e99-224a-4ebe-cdde-c699b7303641"
   },
   "outputs": [],
   "source": [
    "sum(Optimized_df['Optimized Energy']) #make sure optimized total energy is equal to predicted one"
   ]
  },
  {
   "cell_type": "code",
   "execution_count": null,
   "id": "c4974f34",
   "metadata": {
    "colab": {
     "base_uri": "https://localhost:8080/"
    },
    "id": "c4974f34",
    "outputId": "8e839462-83af-490f-c9eb-876bd0e067bc"
   },
   "outputs": [],
   "source": [
    "sum(df_rolling.iloc[:,0])"
   ]
  },
  {
   "cell_type": "code",
   "execution_count": null,
   "id": "213c529f",
   "metadata": {
    "colab": {
     "base_uri": "https://localhost:8080/",
     "height": 249
    },
    "id": "213c529f",
    "outputId": "b5032c65-9059-4e78-85b8-ab8c2e56e81e"
   },
   "outputs": [],
   "source": [
    "#plotting optimized pattern of energy consumption versus before optimization (rolling forecast)\n",
    "df3=price.loc[(price['Month'] == 4)]\n",
    "fig, ax = plt.subplots(figsize=(21,5))\n",
    "plt.plot(df_rolling.iloc[:,0], 'g--', label='Rolling forecast of energy consumption (kw) - Before Optimiztion')\n",
    "plt.plot(Optimized_df.iloc[:,0], color='brown', label='Optimized Energy Pattern (kw)')\n",
    "#plt.plot(price.iloc[-168:-1,0], color='gold', label='Price (Pounds/MWH)')\n",
    "plt.xlabel('Date: Last week of April', fontsize=15)\n",
    "#plt.ylabel('kwh',fontsize=15)\n",
    "#plt.title('Before and After Optimization', fontsize=20)\n",
    "plt.legend(fontsize=12)\n",
    "plt.show()"
   ]
  },
  {
   "cell_type": "code",
   "execution_count": null,
   "id": "YBG15D9TQtIH",
   "metadata": {
    "id": "YBG15D9TQtIH"
   },
   "outputs": [],
   "source": [
    "Time= ['12:00','12:30','13:00','13:30','14:00','14:30','15:00','15:30','16:00','16:30','17:00','17:30','18:00','18:30','19:00','19:30','20:00','20:30','21:00','21:30','22:00','22:30','23:00','23:30' ]"
   ]
  },
  {
   "cell_type": "markdown",
   "id": "Yk59ljIrRGvO",
   "metadata": {
    "id": "Yk59ljIrRGvO"
   },
   "source": []
  },
  {
   "cell_type": "code",
   "execution_count": null,
   "id": "s3_iDdzcST-E",
   "metadata": {
    "id": "s3_iDdzcST-E"
   },
   "outputs": [],
   "source": [
    "Time=['12:00', '14:00', '16:00', '18:00', '20:00', '22:00']"
   ]
  },
  {
   "cell_type": "code",
   "execution_count": null,
   "id": "2112e2ff",
   "metadata": {
    "colab": {
     "base_uri": "https://localhost:8080/",
     "height": 265
    },
    "id": "2112e2ff",
    "outputId": "068e970f-6657-4e78-e396-24817b1a32f1"
   },
   "outputs": [],
   "source": [
    "#plotting energy pattern before and after optimization for 12 hours\n",
    "fig, ax = plt.subplots(figsize=(21,5))\n",
    "plt.plot(df_rolling.iloc[-24:-1,0], 'g--', label='Required Energy- Before Optimiztion, kw')\n",
    "plt.plot(Optimized_df.iloc[-24:-1,0], color='brown', label='Optimized Energy Pattern, kw')\n",
    "plt.plot(price.iloc[-12:-1,0], color='gold', label='Price (Pounds/MWH)')\n",
    "#plt.title('Energy consumption pattern Before and After Optimization and Energy Tariff for 12 Hours', fontsize=20)\n",
    "ax.set_xticklabels(Time, rotation='vertical', fontsize=12)\n",
    "plt.xlabel('Time', fontsize=15)\n",
    "plt.legend()\n",
    "plt.show()"
   ]
  },
  {
   "cell_type": "code",
   "execution_count": null,
   "id": "b8201830",
   "metadata": {
    "colab": {
     "base_uri": "https://localhost:8080/",
     "height": 246
    },
    "id": "b8201830",
    "outputId": "97ba2506-e4a4-4425-86c9-eb5296cb8f56"
   },
   "outputs": [],
   "source": [
    "#comparing cost before and after optimization\n",
    "fig, ax = plt.subplots(figsize=(21,5))\n",
    "plt.plot(range(24,31),F,'g--', label='Cost BEFORE optimization')\n",
    "plt.plot(range(24,31),z_star,color='brown', label='Cost AFTER optimization')\n",
    "plt.xlabel('Date in April 2021', fontsize=15)\n",
    "plt.ylabel('Daily energy cost (£)', fontsize=15)\n",
    "#plt.title('Cost comparison', fontsize=20)\n",
    "plt.legend()\n",
    "plt.show()"
   ]
  },
  {
   "cell_type": "code",
   "execution_count": null,
   "id": "a63c0519",
   "metadata": {
    "colab": {
     "base_uri": "https://localhost:8080/"
    },
    "id": "a63c0519",
    "outputId": "e93a29a1-4045-470b-aa44-eacc1b77f71d"
   },
   "outputs": [],
   "source": [
    "print('Total percentage of savings:',str(((sum(F)-sum(z_star))/sum(F))*100)+'%')"
   ]
  },
  {
   "cell_type": "code",
   "execution_count": null,
   "id": "bfaf8138",
   "metadata": {
    "colab": {
     "base_uri": "https://localhost:8080/"
    },
    "id": "bfaf8138",
    "outputId": "7b778f51-31f6-4728-c026-a5fba1bcf79e"
   },
   "outputs": [],
   "source": [
    "print('Total amount of savings:', str(sum(F)-sum(z_star))+' pounds')"
   ]
  },
  {
   "cell_type": "code",
   "execution_count": null,
   "id": "715921ed",
   "metadata": {
    "colab": {
     "base_uri": "https://localhost:8080/"
    },
    "id": "715921ed",
    "outputId": "07603a92-4208-45cd-ee9a-91f6f98d0ded"
   },
   "outputs": [],
   "source": [
    "print('Total energy used after optimization: ',sum(Optimized_df.iloc[:,0]))"
   ]
  },
  {
   "cell_type": "code",
   "execution_count": null,
   "id": "0316ee28",
   "metadata": {
    "colab": {
     "base_uri": "https://localhost:8080/"
    },
    "id": "0316ee28",
    "outputId": "fe725ee0-6270-4e15-cfec-36147aac3bb2"
   },
   "outputs": [],
   "source": [
    "print('Total energy used before optimization: ',sum(df_rolling.iloc[:,0]))"
   ]
  },
  {
   "cell_type": "code",
   "execution_count": null,
   "id": "8c4a5dcc",
   "metadata": {
    "colab": {
     "base_uri": "https://localhost:8080/"
    },
    "id": "8c4a5dcc",
    "outputId": "15909969-52ec-4a76-d1d8-ed2c4e8af978"
   },
   "outputs": [],
   "source": [
    "sum(F)"
   ]
  },
  {
   "cell_type": "code",
   "execution_count": null,
   "id": "3fc6cffc",
   "metadata": {
    "colab": {
     "base_uri": "https://localhost:8080/"
    },
    "id": "3fc6cffc",
    "outputId": "220ab4df-2fcc-4180-cc60-ae6be8f7759d"
   },
   "outputs": [],
   "source": [
    "sum(z_star)"
   ]
  },
  {
   "cell_type": "markdown",
   "id": "0598c267",
   "metadata": {
    "id": "0598c267"
   },
   "source": [
    "# Check proposed time series model for two weeks"
   ]
  },
  {
   "cell_type": "code",
   "execution_count": null,
   "id": "d0536a77",
   "metadata": {
    "colab": {
     "base_uri": "https://localhost:8080/",
     "height": 446
    },
    "id": "d0536a77",
    "outputId": "a9c481c2-4211-4cae-aaa3-6cf631f126c8"
   },
   "outputs": [],
   "source": [
    "df2=energy.loc[(energy['Hour'] == 0) & (energy['Min'] == 0)]\n",
    "df2=df2.iloc[:,:2]\n",
    "df2"
   ]
  },
  {
   "cell_type": "code",
   "execution_count": null,
   "id": "6f3b4a87",
   "metadata": {
    "colab": {
     "base_uri": "https://localhost:8080/"
    },
    "id": "6f3b4a87",
    "outputId": "a5a480cc-17d1-4d6f-8e20-2b9bc9e30bf0"
   },
   "outputs": [],
   "source": [
    "#for 00:00\n",
    "from statsmodels.tsa.statespace.sarimax import SARIMAX\n",
    "AIC_orders=[]\n",
    "\n",
    "# Loop over p values from 0-20\n",
    "for q in range(4):\n",
    "  # Loop over q values from 0-20\n",
    "    for p in range(7):\n",
    "      \t# create and fit ARIMA(p,q) model (d=1 because difference of data is stationary (adfuller test)); traning data is\n",
    "        #given to check the aic\n",
    "        model = SARIMAX(df2.iloc[0:350,0],exog=df2.iloc[0:350,1], order=(p,1,q),enforce_invertibility=False, enforce_stationarity=False)\n",
    "        results = model.fit()\n",
    "\n",
    "        # Append order and results tuple\n",
    "        AIC_orders.append((p,q,results.aic))\n",
    "\n",
    "# DataFrame from AIC_orders\n",
    "order_df = pd.DataFrame(AIC_orders,\n",
    "                        columns=['p','q','AIC'])\n",
    "\n",
    "order_df=order_df.sort_values('AIC')\n",
    "order_df = order_df.reset_index()\n",
    "del order_df['index']\n",
    "\n",
    "kn = KneeLocator(range(0,28),order_df['AIC'], curve='convex', direction='increasing') #finding the elbow\n",
    "h=kn.knee\n",
    "\n",
    "\n",
    "data = [{'time':'0','p':order_df['p'][h], 'q':order_df['q'][h]}]\n",
    "\n",
    "df_p_q = pd.DataFrame(data, columns=['time','p','q'])\n",
    "\n",
    "#defining the model based on the optimum p and q that AIC returned.\n",
    "model= SARIMAX(df2.iloc[0:350,0],exog=df2.iloc[0:350,1],order=(order_df['p'][h],1,order_df['q'][h]), enforce_invertibility=False, enforce_stationarity=False)\n",
    "results= model.fit()\n",
    "predictions= results.predict(start =350, end=363, exog= df2.iloc[350:,1])\n",
    "predictions.index= df2.iloc[350:,0].index\n",
    "df=pd.DataFrame(data=predictions)\n",
    "\n",
    "from statsmodels.tools.eval_measures import rmse\n",
    "Error_data = [{'time':'0','RMSE':rmse(predictions,df2.iloc[350:,0]), 'Normalized RMSE':rmse(predictions,df2.iloc[350:,0])/average(df2.iloc[350:,0])}]\n",
    "df_error= pd.DataFrame(Error_data, columns=['time','RMSE','Normalized RMSE'])\n",
    "\n",
    "# Rolling forecast\n",
    "\n",
    "train, test = df2.iloc[0:350,0].values, df2.iloc[350:,0].values\n",
    "train_exo, test_exo= df2.iloc[0:350,1].values, df2.iloc[350:,1].values\n",
    "history = [x for x in train]\n",
    "history_exo = [y for y in train_exo]\n",
    "predictions=list()\n",
    "for t in range(len(test)):\n",
    "    model = SARIMAX(history,exog= history_exo,order=(order_df['p'][h],1,order_df['q'][h]),enforce_invertibility=False, enforce_stationarity=False)\n",
    "    fit_model = model.fit()\n",
    "    out= fit_model.forecast(exog= test_exo[t])\n",
    "    yhat = out[0]\n",
    "    predictions.append(yhat)\n",
    "    J = test[t]\n",
    "    s= test_exo[t]\n",
    "    history.append(J)\n",
    "    history_exo.append(s)\n",
    "\n",
    "df_rolling=pd.DataFrame(data= predictions, index= df2.iloc[350:,0].index)  #adding predicted values to previous predictions\n",
    "\n",
    "Error_Rolling_data = [{'time':'0','RMSE':rmse(predictions,df2.iloc[350:,0]), 'Normalized RMSE':rmse(predictions,df2.iloc[350:,0])/average(df2.iloc[350:,0])}]\n",
    "df_Rolling_error= pd.DataFrame(Error_data, columns=['time','RMSE','Normalized RMSE'])\n",
    "\n"
   ]
  },
  {
   "cell_type": "code",
   "execution_count": null,
   "id": "1fccfd85",
   "metadata": {
    "colab": {
     "base_uri": "https://localhost:8080/"
    },
    "id": "1fccfd85",
    "outputId": "2bd218e5-0b62-41db-f008-6266803b2369"
   },
   "outputs": [],
   "source": [
    "#for 00:30\n",
    "df2=energy.loc[(energy['Hour'] == 0) & (energy['Min'] == 30)]\n",
    "df2=df2.iloc[:,:2]\n",
    "\n",
    "\n",
    "AIC_orders=[]\n",
    "\n",
    "    # Loop over p values from 0-20\n",
    "for q in range(4):\n",
    "      # Loop over q values from 0-20\n",
    "    for p in range(7):\n",
    "            # create and fit ARIMA(p,q) model (d=1 because difference of data is stationary (adfuller test)); traning data is\n",
    "            #given to check the aic\n",
    "        model = SARIMAX(df2.iloc[0:351,0],exog=df2.iloc[0:351,1],order=(p,1,q),enforce_invertibility=False, enforce_stationarity=False)\n",
    "        results = model.fit()\n",
    "\n",
    "            # Append order and results tuple\n",
    "        AIC_orders.append((p,q,results.aic))\n",
    "\n",
    "    # DataFrame from AIC_orders\n",
    "order_df = pd.DataFrame(AIC_orders,\n",
    "                            columns=['p','q','AIC'])\n",
    "    #sorting based on the minimum values of AIC\n",
    "order_df=order_df.sort_values('AIC')\n",
    "order_df = order_df.reset_index()\n",
    "del order_df['index']\n",
    "\n",
    "kn = KneeLocator(range(0,28),order_df['AIC'], curve='convex', direction='increasing') #finding the elbow\n",
    "h=kn.knee\n",
    "\n",
    "data = ['00:30',order_df['p'][h], order_df['q'][h]]\n",
    "df_p_q.loc[len(df_p_q)]=data\n",
    "\n",
    "    #defining the model based on the optimum p and q that AIC returned.\n",
    "model= SARIMAX(df2.iloc[0:351,0],exog=df2.iloc[0:351,1], order=(order_df['p'][h],1,order_df['q'][h]), enforce_invertibility=False, enforce_stationarity=False)\n",
    "results= model.fit()\n",
    "predictions= results.predict(start =351, end=364,exog= df2.iloc[351:,1])\n",
    "predictions.index= df2.iloc[351:,0].index\n",
    "df=df.append(pd.DataFrame(data=predictions))\n",
    "\n",
    "\n",
    "Error_data=['00:30',rmse(predictions,df2.iloc[351:,0]), rmse(predictions,df2.iloc[351:,0])/average(df2.iloc[351:,0])]\n",
    "df_error.loc[len(df_error)]=Error_data\n",
    "\n",
    "\n",
    "    #rolling:\n",
    "\n",
    "train, test = df2.iloc[0:351,0].values, df2.iloc[351:,0].values\n",
    "train_exo, test_exo= df2.iloc[0:351,1].values, df2.iloc[351:,1].values\n",
    "history = [x for x in train]\n",
    "history_exo = [y for y in train_exo]\n",
    "predictions=list()\n",
    "for t in range(len(test)):\n",
    "    model = SARIMAX(history,exog= history_exo,order=(order_df['p'][h],1,order_df['q'][h]),enforce_invertibility=False, enforce_stationarity=False)\n",
    "    fit_model = model.fit()\n",
    "    out= fit_model.forecast(exog= test_exo[t])\n",
    "    yhat = out[0]\n",
    "    predictions.append(yhat)\n",
    "    J = test[t]\n",
    "    s= test_exo[t]\n",
    "    history.append(J)\n",
    "    history_exo.append(s)\n",
    "df_rolling= df_rolling.append(pd.DataFrame(data= predictions, index= df2.iloc[351:,0].index))   #adding new predictions to previous hours values\n",
    "\n",
    "Error_Rolling_data=['00:30',rmse(predictions,df2.iloc[351,0]), rmse(predictions,df2.iloc[351,0])/average(df2.iloc[351,0])]\n",
    "df_Rolling_error.loc[len(df_Rolling_error)]=Error_Rolling_data\n"
   ]
  },
  {
   "cell_type": "code",
   "execution_count": null,
   "id": "ecb56d4c",
   "metadata": {
    "colab": {
     "base_uri": "https://localhost:8080/"
    },
    "id": "ecb56d4c",
    "outputId": "8f24e324-8fc5-43cb-83c8-420b3a49988f"
   },
   "outputs": [],
   "source": [
    "for i in range(1,24):\n",
    "    for j in range(0,31,30):\n",
    "        df2=energy.loc[(energy['Hour'] == i) & (energy['Min'] == j) ]\n",
    "        df2=df2.iloc[:,:2]\n",
    "        AIC_orders=[]\n",
    "\n",
    "        # Loop over p values from 0-20\n",
    "        for q in range(4):\n",
    "          # Loop over q values from 0-20\n",
    "            for p in range(7):\n",
    "                # create and fit ARIMA(p,q) model (d=1 because difference of data is stationary (adfuller test)); traning data is\n",
    "                #given to check the aic\n",
    "                model = SARIMAX(df2.iloc[0:351,0],exog=df2.iloc[0:351,1],order=(p,1,q),enforce_invertibility=False, enforce_stationarity=False)\n",
    "                results = model.fit()\n",
    "\n",
    "                # Append order and results tuple\n",
    "                AIC_orders.append((p,q,results.aic))\n",
    "\n",
    "        # DataFrame from AIC_orders\n",
    "        order_df = pd.DataFrame(AIC_orders,\n",
    "                                columns=['p','q','AIC'])\n",
    "        #sorting based on the minimum values of AIC\n",
    "        order_df=order_df.sort_values('AIC')\n",
    "        order_df = order_df.reset_index()\n",
    "        del order_df['index']\n",
    "        kn = KneeLocator(range(0,28),order_df['AIC'], curve='convex', direction='increasing') #finding the elbow\n",
    "        h=kn.knee\n",
    "\n",
    "        data = [str(i)+':'+str(j),order_df['p'][h], order_df['q'][h]]\n",
    "        df_p_q.loc[len(df_p_q)]=data\n",
    "\n",
    "\n",
    "        #defining a list to collect predicted values.\n",
    "        #defining the model based on the optimum p and q that AIC returned.\n",
    "        model= SARIMAX(df2.iloc[0:351,0],exog=df2.iloc[0:351,1], order=(order_df['p'][h],1,order_df['q'][h]), enforce_invertibility=False, enforce_stationarity=False)\n",
    "        results= model.fit()\n",
    "        predictions= results.predict(start =351, end=364,exog= df2.iloc[351:,1])\n",
    "        predictions.index= df2.iloc[351:,0].index\n",
    "        df=df.append(pd.DataFrame(data=predictions))\n",
    "\n",
    "        Error_data=[str(i)+':'+str(j),rmse(predictions,df2.iloc[351:,0]), rmse(predictions,df2.iloc[351:,0])/average(df2.iloc[351:,0])]\n",
    "        df_error.loc[len(df_error)]=Error_data\n",
    "\n",
    "        # Rolling forecast\n",
    "\n",
    "        train, test = df2.iloc[0:351,0].values, df2.iloc[351:,0].values\n",
    "        train_exo, test_exo= df2.iloc[0:351,1].values, df2.iloc[351:,1].values\n",
    "        history = [x for x in train]\n",
    "        history_exo = [y for y in train_exo]\n",
    "        predictions=list()\n",
    "        for t in range(len(test)):\n",
    "            model = SARIMAX(history,exog= history_exo,order=(order_df['p'][h],1,order_df['q'][h]),enforce_invertibility=False, enforce_stationarity=False)\n",
    "            fit_model = model.fit()\n",
    "            out= fit_model.forecast(exog= test_exo[t])\n",
    "            yhat = out[0]\n",
    "            predictions.append(yhat)\n",
    "            J = test[t]\n",
    "            s= test_exo[t]\n",
    "            history.append(J)\n",
    "            history_exo.append(s)\n",
    "        df_rolling= df_rolling.append(pd.DataFrame(data= predictions, index=df2.iloc[351:,0].index))  #adding new predictions to previous hours values\n",
    "\n",
    "        Error_Rolling_data=[str(i)+':'+str(j),rmse(predictions,df2.iloc[351:,0]), rmse(predictions,df2.iloc[351:,0])/average(df2.iloc[351:,0])]\n",
    "        df_Rolling_error.loc[len(df_Rolling_error)]=Error_Rolling_data\n",
    "\n"
   ]
  },
  {
   "cell_type": "code",
   "execution_count": null,
   "id": "427ef70f",
   "metadata": {
    "id": "427ef70f"
   },
   "outputs": [],
   "source": [
    "df= df.sort_index()\n",
    "df_rolling=df_rolling.sort_index()"
   ]
  },
  {
   "cell_type": "code",
   "execution_count": null,
   "id": "7bfd420f",
   "metadata": {
    "colab": {
     "base_uri": "https://localhost:8080/",
     "height": 262
    },
    "id": "7bfd420f",
    "outputId": "fd0e4f5b-c375-4dce-c54c-03c605b61a3d"
   },
   "outputs": [],
   "source": [
    "fig, ax = plt.subplots(figsize=(21,5))\n",
    "plt.plot(energy.iloc[16847:,0], color='black',label='Real Energy Consumption- $X_t$')\n",
    "plt.plot(df.iloc[:,0], color= 'red', alpha=0.7,label='Predicted Energy Consumption- Static Forecast-'+ ' $\\hat{X}$')\n",
    "plt.plot(df_rolling.iloc[:,0], color='green', label='Predicted Energy Consumption- rolling forecast' + ' $\\hat{X}$')\n",
    "\n",
    "plt.title('Prediction for 2 Weeks', fontsize=15)\n",
    "#plt.ylabel('kwh')\n",
    "plt.xlabel('Date',fontsize=15)\n",
    "plt.legend()\n",
    "plt.show()"
   ]
  },
  {
   "cell_type": "code",
   "execution_count": null,
   "id": "4e8a1510",
   "metadata": {
    "colab": {
     "base_uri": "https://localhost:8080/"
    },
    "id": "4e8a1510",
    "outputId": "7e9505d9-ee6c-4de3-fb1a-166515b06f82"
   },
   "outputs": [],
   "source": [
    "#calculating mean absolute percentage error in order to compare with other ML models\n",
    "mape = mean_absolute_percentage_error(energy.iloc[16847:,0], df_rolling.iloc[:,0])*100\n",
    "print('Mean Absolute Percentage Error for Rolling forecast:', str(mape)+'%')"
   ]
  },
  {
   "cell_type": "code",
   "execution_count": null,
   "id": "34553901",
   "metadata": {
    "colab": {
     "base_uri": "https://localhost:8080/"
    },
    "id": "34553901",
    "outputId": "8703aeda-35dc-493a-ad34-728265a43e9e"
   },
   "outputs": [],
   "source": [
    "mape = mean_absolute_percentage_error(energy.iloc[16847:,0], df.iloc[:,0])*100\n",
    "print('Mean Absolute Percentage Error for Static forecast:', str(mape)+'%')"
   ]
  },
  {
   "cell_type": "code",
   "execution_count": null,
   "id": "e21bd256",
   "metadata": {
    "colab": {
     "base_uri": "https://localhost:8080/"
    },
    "id": "e21bd256",
    "outputId": "208643a5-d66c-41f6-fd5f-5f44fb11f5ce"
   },
   "outputs": [],
   "source": [
    "average(df_error.iloc[:,1])"
   ]
  },
  {
   "cell_type": "code",
   "execution_count": null,
   "id": "4b8595a8",
   "metadata": {
    "colab": {
     "base_uri": "https://localhost:8080/"
    },
    "id": "4b8595a8",
    "outputId": "f9c3e321-7336-4030-d2e6-de1bf001e5e3"
   },
   "outputs": [],
   "source": [
    "average(df_Rolling_error.iloc[:,1])"
   ]
  },
  {
   "cell_type": "markdown",
   "id": "96356b1f",
   "metadata": {
    "id": "96356b1f"
   },
   "source": [
    "# Checking model for 5 weeks"
   ]
  },
  {
   "cell_type": "code",
   "execution_count": null,
   "id": "af0f8696",
   "metadata": {
    "colab": {
     "base_uri": "https://localhost:8080/",
     "height": 1000
    },
    "id": "af0f8696",
    "outputId": "55187bfd-73c7-4497-cb15-ff72b10e9213"
   },
   "outputs": [],
   "source": [
    "#Time: 00:00 (because for this time we have less data for training, it is out of the loop and is done separately)\n",
    "df2=energy.loc[(energy['Hour'] == 0) & (energy['Min'] == 0)]\n",
    "df2=df2.iloc[:,:2]\n",
    "#for 00:00\n",
    "AIC_orders=[]\n",
    "\n",
    "# Loop over p values from 0-3\n",
    "for q in range(4):\n",
    "  # Loop over q values from 0-6\n",
    "    for p in range(7):\n",
    "      \t# create and fit ARIMA(p,q) model (d=1 because difference of data is stationary (adfuller test)); traning data is\n",
    "        #given to check the aic\n",
    "        model = SARIMAX(df2.iloc[0:329,0],exog=df2.iloc[0:329,1], order=(p,1,q),enforce_invertibility=False, enforce_stationarity=False)\n",
    "        results = model.fit()\n",
    "\n",
    "        # Append order and results tuple\n",
    "        AIC_orders.append((p,q,results.aic))\n",
    "\n",
    "# DataFrame from AIC_orders\n",
    "order_df = pd.DataFrame(AIC_orders,\n",
    "                        columns=['p','q','AIC'])\n",
    "\n",
    "order_df=order_df.sort_values('AIC')\n",
    "order_df = order_df.reset_index()\n",
    "del order_df['index']\n",
    "\n",
    "kn = KneeLocator(range(0,28),order_df['AIC'], curve='convex', direction='increasing') #finding the elbow\n",
    "h=kn.knee\n",
    "\n",
    "\n",
    "data = [{'time':'0','p':order_df['p'][h], 'q':order_df['q'][h]}]\n",
    "\n",
    "df_p_q = pd.DataFrame(data, columns=['time','p','q'])\n",
    "\n",
    "\n",
    "#defining the model based on the optimum p and q that AIC returned.\n",
    "model= SARIMAX(df2.iloc[0:329,0],exog=df2.iloc[0:329,1],order=(order_df['p'][h],1,order_df['q'][h]), enforce_invertibility=False, enforce_stationarity=False)\n",
    "results= model.fit()\n",
    "\n",
    "predictions= results.predict(start =329, end=363, exog= df2.iloc[329:,1])\n",
    "predictions.index= df2.iloc[329:,0].index\n",
    "df=pd.DataFrame(data=predictions)\n",
    "\n",
    "Error_data = [{'time':'0','RMSE':rmse(predictions,df2.iloc[329:,0]), 'Normalized RMSE':rmse(predictions,df2.iloc[329:,0])/average(df2.iloc[329:,0])}]\n",
    "df_error= pd.DataFrame(Error_data, columns=['time','RMSE','Normalized RMSE'])\n",
    "print('00:00-static')\n",
    "results.plot_diagnostics(figsize=(21,12))\n",
    "plt.show()\n",
    "print(results.summary())\n",
    "# Rolling forecast\n",
    "\n",
    "train, test = df2.iloc[0:329,0].values, df2.iloc[329:,0].values\n",
    "train_exo, test_exo= df2.iloc[0:329,1].values, df2.iloc[329:,1].values\n",
    "history = [x for x in train]\n",
    "history_exo = [y for y in train_exo]\n",
    "predictions=list()\n",
    "for t in range(len(test)):\n",
    "    model = SARIMAX(history,exog= history_exo,order=(order_df['p'][h],1,order_df['q'][h]),enforce_invertibility=False, enforce_stationarity=False)\n",
    "    fit_model = model.fit()\n",
    "    out= fit_model.forecast(exog= test_exo[t])\n",
    "    yhat = out[0]\n",
    "    predictions.append(yhat)\n",
    "    J = test[t]\n",
    "    s= test_exo[t]\n",
    "    history.append(J)\n",
    "    history_exo.append(s)\n",
    "\n",
    "df_rolling=pd.DataFrame(data= predictions, index= df2.iloc[329:,0].index)  #adding predicted values to previous predictions\n",
    "\n",
    "Error_Rolling_data = [{'time':'0','RMSE':rmse(predictions,df2.iloc[329:,0]), 'Normalized RMSE':rmse(predictions,df2.iloc[329:,0])/average(df2.iloc[329:,0])}]\n",
    "df_Rolling_error= pd.DataFrame(Error_data, columns=['time','RMSE','Normalized RMSE'])\n",
    "print('00:00-rolling')\n",
    "fit_model.plot_diagnostics(figsize=(21,12))\n",
    "plt.show()\n",
    "print(fit_model.summary())"
   ]
  },
  {
   "cell_type": "code",
   "execution_count": null,
   "id": "e63bb167",
   "metadata": {
    "colab": {
     "base_uri": "https://localhost:8080/",
     "height": 1000
    },
    "id": "e63bb167",
    "outputId": "b7ff692c-84fb-450e-ff51-23ab2746dc66"
   },
   "outputs": [],
   "source": [
    "#for 00:30\n",
    "df2=energy.loc[(energy['Hour'] == 0) & (energy['Min'] == 30)]\n",
    "df2=df2.iloc[:,:2]\n",
    "sm.tsa.graphics.plot_acf(df2.iloc[:,0], lags=30)\n",
    "plt.show()\n",
    "\n",
    "AIC_orders=[]\n",
    "\n",
    "    # Loop over p values from 0-3\n",
    "for q in range(4):\n",
    "      # Loop over q values from 0-6\n",
    "    for p in range(7):\n",
    "            # create and fit ARIMA(p,q) model (d=1 because difference of data is stationary (adfuller test)); traning data is\n",
    "            #given to check the aic\n",
    "        model = SARIMAX(df2.iloc[0:330,0],exog=df2.iloc[0:330,1],order=(p,1,q),enforce_invertibility=False, enforce_stationarity=False)\n",
    "        results = model.fit()\n",
    "\n",
    "            # Append order and results tuple\n",
    "        AIC_orders.append((p,q,results.aic))\n",
    "\n",
    "    # DataFrame from AIC_orders\n",
    "order_df = pd.DataFrame(AIC_orders,\n",
    "                            columns=['p','q','AIC'])\n",
    "    #sorting based on the minimum values of AIC\n",
    "order_df=order_df.sort_values('AIC')\n",
    "order_df = order_df.reset_index()\n",
    "del order_df['index']\n",
    "\n",
    "kn = KneeLocator(range(0,28),order_df['AIC'], curve='convex', direction='increasing') #finding the elbow\n",
    "h=kn.knee\n",
    "\n",
    "data = ['00:30',order_df['p'][h], order_df['q'][h]]\n",
    "df_p_q.loc[len(df_p_q)]=data\n",
    "\n",
    "    #defining the model based on the optimum p and q that AIC returned.\n",
    "model= SARIMAX(df2.iloc[0:330,0],exog=df2.iloc[0:330,1], order=(order_df['p'][h],1,order_df['q'][h]), enforce_invertibility=False, enforce_stationarity=False)\n",
    "results= model.fit()\n",
    "predictions= results.predict(start =330, end=364,exog= df2.iloc[330:,1])\n",
    "predictions.index= df2.iloc[330:,0].index\n",
    "df=df.append(pd.DataFrame(data=predictions))\n",
    "\n",
    "\n",
    "Error_data=['00:30',rmse(predictions,df2.iloc[330:,0]), rmse(predictions,df2.iloc[330:,0])/average(df2.iloc[330:,0])]\n",
    "df_error.loc[len(df_error)]=Error_data\n",
    "print('00:30-static')\n",
    "results.plot_diagnostics(figsize=(21,12))\n",
    "plt.show()\n",
    "print(results.summary())\n",
    "\n",
    "    #rolling:\n",
    "\n",
    "train, test = df2.iloc[0:330,0].values, df2.iloc[330:,0].values\n",
    "train_exo, test_exo= df2.iloc[0:330,1].values, df2.iloc[330:,1].values\n",
    "history = [x for x in train]\n",
    "history_exo = [y for y in train_exo]\n",
    "predictions=list()\n",
    "for t in range(len(test)):\n",
    "    model = SARIMAX(history,exog= history_exo,order=(order_df['p'][h],1,order_df['q'][h]),enforce_invertibility=False, enforce_stationarity=False)\n",
    "    fit_model = model.fit()\n",
    "    out= fit_model.forecast(exog= test_exo[t])\n",
    "    yhat = out[0]\n",
    "    predictions.append(yhat)\n",
    "    J = test[t]\n",
    "    s= test_exo[t]\n",
    "    history.append(J)\n",
    "    history_exo.append(s)\n",
    "df_rolling= df_rolling.append(pd.DataFrame(data= predictions, index= df2.iloc[330:,0].index))   #adding new predictions to previous hours values\n",
    "\n",
    "Error_Rolling_data=['00:30',rmse(predictions,df2.iloc[330,0]), rmse(predictions,df2.iloc[330,0])/average(df2.iloc[330,0])]\n",
    "df_Rolling_error.loc[len(df_Rolling_error)]=Error_Rolling_data\n",
    "print('00:30-rolling')\n",
    "fit_model.plot_diagnostics(figsize=(21,12))\n",
    "plt.show()\n",
    "print(fit_model.summary())"
   ]
  },
  {
   "cell_type": "code",
   "execution_count": null,
   "id": "95be88c4",
   "metadata": {
    "colab": {
     "base_uri": "https://localhost:8080/",
     "height": 1000
    },
    "id": "95be88c4",
    "outputId": "46da62bb-a590-4f94-d2b7-bdd42be8575b"
   },
   "outputs": [],
   "source": [
    "for i in range(1,24):\n",
    "    for j in range(0,31,30):\n",
    "        df2=energy.loc[(energy['Hour'] == i) & (energy['Min'] == j) ]\n",
    "        df2=df2.iloc[:,:2]\n",
    "        AIC_orders=[]\n",
    "\n",
    "        # Loop over p values from 0-3\n",
    "        for q in range(4):\n",
    "          # Loop over q values from 0-6\n",
    "            for p in range(7):\n",
    "                model = SARIMAX(df2.iloc[0:330,0],exog=df2.iloc[0:330,1],order=(p,1,q),enforce_invertibility=False, enforce_stationarity=False)\n",
    "                results = model.fit()\n",
    "\n",
    "                # Append order and results tuple\n",
    "                AIC_orders.append((p,q,results.aic))\n",
    "\n",
    "        # DataFrame from AIC_orders\n",
    "        order_df = pd.DataFrame(AIC_orders,\n",
    "                                columns=['p','q','AIC'])\n",
    "        #sorting based on the minimum values of AIC\n",
    "        order_df=order_df.sort_values('AIC')\n",
    "        order_df = order_df.reset_index()\n",
    "        del order_df['index']\n",
    "        kn = KneeLocator(range(0,28),order_df['AIC'], curve='convex', direction='increasing') #finding the elbow\n",
    "        h=kn.knee\n",
    "\n",
    "        data = [str(i)+':'+str(j),order_df['p'][h], order_df['q'][h]]\n",
    "        df_p_q.loc[len(df_p_q)]=data\n",
    "\n",
    "\n",
    "        #defining the model based on the optimum p and q that AIC returned.\n",
    "        model= SARIMAX(df2.iloc[0:330,0],exog=df2.iloc[0:330,1], order=(order_df['p'][h],1,order_df['q'][h]), enforce_invertibility=False, enforce_stationarity=False)\n",
    "        results= model.fit()\n",
    "        predictions= results.predict(start =330, end=364,exog= df2.iloc[330:,1])\n",
    "        predictions.index= df2.iloc[330:,0].index\n",
    "        df=df.append(pd.DataFrame(data=predictions))\n",
    "\n",
    "        Error_data=[str(i)+':'+str(j),rmse(predictions,df2.iloc[330:,0]), rmse(predictions,df2.iloc[330:,0])/average(df2.iloc[330:,0])]\n",
    "        df_error.loc[len(df_error)]=Error_data\n",
    "        print(str(i)+':'+str(j)+'static')\n",
    "        sm.tsa.graphics.plot_acf(df2.iloc[:,0], lags=30)\n",
    "        plt.show()\n",
    "        results.plot_diagnostics(figsize=(21,12))\n",
    "        plt.show()\n",
    "        print(results.summary())\n",
    "        # Rolling forecast\n",
    "        #split into train and test sets\n",
    "\n",
    "        train, test = df2.iloc[0:330,0].values, df2.iloc[330:,0].values\n",
    "        train_exo, test_exo= df2.iloc[0:330,1].values, df2.iloc[330:,1].values\n",
    "        history = [x for x in train]\n",
    "        history_exo = [y for y in train_exo]\n",
    "        predictions=list()\n",
    "        for t in range(len(test)):\n",
    "            model = SARIMAX(history,exog= history_exo,order=(order_df['p'][h],1,order_df['q'][h]),enforce_invertibility=False, enforce_stationarity=False)\n",
    "            fit_model = model.fit()\n",
    "            out= fit_model.forecast(exog= test_exo[t])\n",
    "            yhat = out[0]\n",
    "            predictions.append(yhat)\n",
    "            J = test[t]\n",
    "            s= test_exo[t]\n",
    "            history.append(J)\n",
    "            history_exo.append(s)\n",
    "        df_rolling= df_rolling.append(pd.DataFrame(data= predictions, index=df2.iloc[330:,0].index))  #adding new predictions to previous hours values\n",
    "\n",
    "        Error_Rolling_data=[str(i)+':'+str(j),rmse(predictions,df2.iloc[330:,0]), rmse(predictions,df2.iloc[330:,0])/average(df2.iloc[330:,0])]\n",
    "        df_Rolling_error.loc[len(df_Rolling_error)]=Error_Rolling_data\n",
    "        print(str(i)+':'+str(j)+'rolling')\n",
    "        fit_model.plot_diagnostics(figsize=(21,12))\n",
    "        plt.show()\n",
    "        print(fit_model.summary())\n",
    "\n"
   ]
  },
  {
   "cell_type": "code",
   "execution_count": null,
   "id": "98737d5a",
   "metadata": {
    "id": "98737d5a"
   },
   "outputs": [],
   "source": [
    "df= df.sort_index()\n",
    "df_rolling=df_rolling.sort_index()"
   ]
  },
  {
   "cell_type": "code",
   "execution_count": null,
   "id": "df9b8fd2",
   "metadata": {
    "colab": {
     "base_uri": "https://localhost:8080/",
     "height": 249
    },
    "id": "df9b8fd2",
    "outputId": "f7db6d86-b67b-473d-fa39-a12fb1a2e191"
   },
   "outputs": [],
   "source": [
    "fig, ax = plt.subplots(figsize=(21,5))\n",
    "plt.plot(energy.iloc[15839:,0], color='black',label='Real Energy Consumption- $X_t$')\n",
    "plt.plot(df.iloc[-1678:-1,0], color= 'red', alpha=0.7,label=' Predicted Energy Consumption static forecast'+ ' $\\hat{X_t}$')\n",
    "\n",
    "plt.plot(df_rolling.iloc[-1678:-1,0], color='green', label='Predicted Energy Consumption- rolling forecast'+ ' $\\hat{X_t}$')\n",
    "\n",
    "plt.title('Prediction for 5 Weeks', fontsize=15)\n",
    "#plt.ylabel('kwh')\n",
    "plt.legend()\n",
    "plt.show()"
   ]
  },
  {
   "cell_type": "code",
   "execution_count": null,
   "id": "8e05d292",
   "metadata": {
    "colab": {
     "base_uri": "https://localhost:8080/"
    },
    "id": "8e05d292",
    "outputId": "ccc4f04a-caf6-4c26-a005-75cf5f4f7ae6"
   },
   "outputs": [],
   "source": [
    "mape = mean_absolute_percentage_error(energy.iloc[15839:,0], df.iloc[:,0])*100\n",
    "print('Mean Absolute Percentage Error for Static forecast:', str(mape)+'%')"
   ]
  },
  {
   "cell_type": "code",
   "execution_count": null,
   "id": "1f219ff5",
   "metadata": {
    "colab": {
     "base_uri": "https://localhost:8080/"
    },
    "id": "1f219ff5",
    "outputId": "dcd845d3-94a3-4d7f-9996-3ca798c3c038"
   },
   "outputs": [],
   "source": [
    "mape = mean_absolute_percentage_error(energy.iloc[15839:,0], df_rolling.iloc[:,0])*100\n",
    "print('Mean Absolute Percentage Error for Rolling forecast:', str(mape)+'%')"
   ]
  },
  {
   "cell_type": "code",
   "execution_count": null,
   "id": "3cc90deb",
   "metadata": {
    "colab": {
     "base_uri": "https://localhost:8080/"
    },
    "id": "3cc90deb",
    "outputId": "cf8217b6-f30f-49d5-d76d-91cd0ab16441"
   },
   "outputs": [],
   "source": [
    "average(df_error.iloc[:,1])"
   ]
  },
  {
   "cell_type": "code",
   "execution_count": null,
   "id": "caf585c6",
   "metadata": {
    "colab": {
     "base_uri": "https://localhost:8080/"
    },
    "id": "caf585c6",
    "outputId": "26d9b367-e7f5-4030-988a-a49afaec9a63"
   },
   "outputs": [],
   "source": [
    "average(df_Rolling_error.iloc[:,1])"
   ]
  },
  {
   "cell_type": "markdown",
   "id": "494f716b",
   "metadata": {
    "id": "494f716b"
   },
   "source": [
    "# Checking for 10 weeks"
   ]
  },
  {
   "cell_type": "code",
   "execution_count": null,
   "id": "8afac113",
   "metadata": {
    "colab": {
     "base_uri": "https://localhost:8080/",
     "height": 1000
    },
    "id": "8afac113",
    "outputId": "543cbde4-9027-4278-801f-d31b7171d0a2"
   },
   "outputs": [],
   "source": [
    "#Time: 00:00 (because for this time we have less data for training, it is out of the loop and is done separately)\n",
    "df2=energy.loc[(energy['Hour'] == 0) & (energy['Min'] == 0)]\n",
    "df2=df2.iloc[:,:2]\n",
    "#for 00:00\n",
    "AIC_orders=[]\n",
    "\n",
    "# Loop over p values from 0-3\n",
    "for q in range(4):\n",
    "  # Loop over q values from 0-6\n",
    "    for p in range(7):\n",
    "      \t# create and fit ARIMA(p,q) model (d=1 because difference of data is stationary (adfuller test)); traning data is\n",
    "        #given to check the aic\n",
    "        model = SARIMAX(df2.iloc[0:294,0],exog=df2.iloc[0:294,1], order=(p,1,q),enforce_invertibility=False, enforce_stationarity=False)\n",
    "        results = model.fit()\n",
    "\n",
    "        # Append order and results tuple\n",
    "        AIC_orders.append((p,q,results.aic))\n",
    "\n",
    "# DataFrame from AIC_orders\n",
    "order_df = pd.DataFrame(AIC_orders,\n",
    "                        columns=['p','q','AIC'])\n",
    "\n",
    "order_df=order_df.sort_values('AIC')\n",
    "order_df = order_df.reset_index()\n",
    "del order_df['index']\n",
    "\n",
    "kn = KneeLocator(range(0,28),order_df['AIC'], curve='convex', direction='increasing') #finding the elbow\n",
    "h=kn.knee\n",
    "\n",
    "\n",
    "data = [{'time':'0','p':order_df['p'][h], 'q':order_df['q'][h]}]\n",
    "\n",
    "df_p_q = pd.DataFrame(data, columns=['time','p','q'])\n",
    "\n",
    "\n",
    "#defining the model based on the optimum p and q that AIC returned.\n",
    "model= SARIMAX(df2.iloc[0:294,0],exog=df2.iloc[0:294,1],order=(order_df['p'][h],1,order_df['q'][h]), enforce_invertibility=False, enforce_stationarity=False)\n",
    "results= model.fit()\n",
    "\n",
    "predictions= results.predict(start =294, end=363, exog= df2.iloc[294:,1])\n",
    "predictions.index= df2.iloc[294:,0].index\n",
    "df=pd.DataFrame(data=predictions)\n",
    "\n",
    "Error_data = [{'time':'0','RMSE':rmse(predictions,df2.iloc[294:,0]), 'Normalized RMSE':rmse(predictions,df2.iloc[294:,0])/average(df2.iloc[294:,0])}]\n",
    "df_error= pd.DataFrame(Error_data, columns=['time','RMSE','Normalized RMSE'])\n",
    "print('00:00-static')\n",
    "results.plot_diagnostics(figsize=(21,12))\n",
    "plt.show()\n",
    "print(results.summary())\n",
    "# Rolling forecast\n",
    "\n",
    "# split into train and test sets\n",
    "train, test = df2.iloc[0:294,0].values, df2.iloc[294:,0].values\n",
    "train_exo, test_exo= df2.iloc[0:294,1].values, df2.iloc[294:,1].values\n",
    "history = [x for x in train]\n",
    "history_exo = [y for y in train_exo]\n",
    "predictions=list()\n",
    "for t in range(len(test)):\n",
    "    model = SARIMAX(history,exog= history_exo,order=(order_df['p'][h],1,order_df['q'][h]),enforce_invertibility=False, enforce_stationarity=False)\n",
    "    fit_model = model.fit()\n",
    "    out= fit_model.forecast(exog= test_exo[t])\n",
    "    yhat = out[0]\n",
    "    predictions.append(yhat)\n",
    "    J = test[t]\n",
    "    s= test_exo[t]\n",
    "    history.append(J)\n",
    "    history_exo.append(s)\n",
    "\n",
    "df_rolling=pd.DataFrame(data= predictions, index= df2.iloc[294:,0].index)  #adding predicted values to previous predictions\n",
    "\n",
    "Error_Rolling_data = [{'time':'0','RMSE':rmse(predictions,df2.iloc[294:,0]), 'Normalized RMSE':rmse(predictions,df2.iloc[294:,0])/average(df2.iloc[294:,0])}]\n",
    "df_Rolling_error= pd.DataFrame(Error_data, columns=['time','RMSE','Normalized RMSE'])\n",
    "print('00:00-rolling')\n",
    "fit_model.plot_diagnostics(figsize=(21,12))\n",
    "plt.show()\n",
    "print(fit_model.summary())\n"
   ]
  },
  {
   "cell_type": "code",
   "execution_count": null,
   "id": "a4e02638",
   "metadata": {
    "colab": {
     "base_uri": "https://localhost:8080/",
     "height": 1000
    },
    "id": "a4e02638",
    "outputId": "2db408da-5015-46c8-aa4b-e2b3f0e7aba9"
   },
   "outputs": [],
   "source": [
    "#for 00:30\n",
    "df2=energy.loc[(energy['Hour'] == 0) & (energy['Min'] == 30)]\n",
    "df2=df2.iloc[:,:2]\n",
    "sm.tsa.graphics.plot_acf(df2.iloc[:,0], lags=30)\n",
    "plt.show()\n",
    "\n",
    "AIC_orders=[]\n",
    "\n",
    "    # Loop over p values from 0-3\n",
    "for q in range(4):\n",
    "      # Loop over q values from 0-6\n",
    "    for p in range(7):\n",
    "            # create and fit ARIMA(p,q) model (d=1 because difference of data is stationary (adfuller test)); traning data is\n",
    "            #given to check the aic\n",
    "        model = SARIMAX(df2.iloc[0:295,0],exog=df2.iloc[0:295,1],order=(p,1,q),enforce_invertibility=False, enforce_stationarity=False)\n",
    "        results = model.fit()\n",
    "\n",
    "            # Append order and results tuple\n",
    "        AIC_orders.append((p,q,results.aic))\n",
    "\n",
    "    # DataFrame from AIC_orders\n",
    "order_df = pd.DataFrame(AIC_orders,\n",
    "                            columns=['p','q','AIC'])\n",
    "    #sorting based on the minimum values of AIC\n",
    "order_df=order_df.sort_values('AIC')\n",
    "order_df = order_df.reset_index()\n",
    "del order_df['index']\n",
    "\n",
    "kn = KneeLocator(range(0,28),order_df['AIC'], curve='convex', direction='increasing') #finding the elbow\n",
    "h=kn.knee\n",
    "\n",
    "data = ['00:30',order_df['p'][h], order_df['q'][h]]\n",
    "df_p_q.loc[len(df_p_q)]=data\n",
    "\n",
    "    #defining the model based on the optimum p and q that AIC returned.\n",
    "model= SARIMAX(df2.iloc[0:295,0],exog=df2.iloc[0:295,1], order=(order_df['p'][h],1,order_df['q'][h]), enforce_invertibility=False, enforce_stationarity=False)\n",
    "results= model.fit()\n",
    "predictions= results.predict(start =295, end=364,exog= df2.iloc[295:,1])\n",
    "predictions.index= df2.iloc[295:,0].index\n",
    "df=df.append(pd.DataFrame(data=predictions))\n",
    "\n",
    "\n",
    "Error_data=['00:30',rmse(predictions,df2.iloc[295:,0]), rmse(predictions,df2.iloc[295:,0])/average(df2.iloc[295:,0])]\n",
    "df_error.loc[len(df_error)]=Error_data\n",
    "print('00:30-static')\n",
    "results.plot_diagnostics(figsize=(21,12))\n",
    "plt.show()\n",
    "print(results.summary())\n",
    "\n",
    "    #rolling:\n",
    "train, test = df2.iloc[0:295,0].values, df2.iloc[295:,0].values\n",
    "train_exo, test_exo= df2.iloc[0:295,1].values, df2.iloc[295:,1].values\n",
    "history = [x for x in train]\n",
    "history_exo = [y for y in train_exo]\n",
    "predictions=list()\n",
    "for t in range(len(test)):\n",
    "    model = SARIMAX(history,exog= history_exo,order=(order_df['p'][h],1,order_df['q'][h]),enforce_invertibility=False, enforce_stationarity=False)\n",
    "    fit_model = model.fit()\n",
    "    out= fit_model.forecast(exog= test_exo[t])\n",
    "    yhat = out[0]\n",
    "    predictions.append(yhat)\n",
    "    J = test[t]\n",
    "    s= test_exo[t]\n",
    "    history.append(J)\n",
    "    history_exo.append(s)\n",
    "df_rolling= df_rolling.append(pd.DataFrame(data= predictions, index= df2.iloc[295:,0].index))   #adding new predictions to previous hours values\n",
    "\n",
    "Error_Rolling_data=['00:30',rmse(predictions,df2.iloc[295,0]), rmse(predictions,df2.iloc[295,0])/average(df2.iloc[295,0])]\n",
    "df_Rolling_error.loc[len(df_Rolling_error)]=Error_Rolling_data\n",
    "print('00:30-rolling')\n",
    "fit_model.plot_diagnostics(figsize=(21,12))\n",
    "plt.show()\n",
    "print(fit_model.summary())"
   ]
  },
  {
   "cell_type": "code",
   "execution_count": null,
   "id": "5ed016bc",
   "metadata": {
    "colab": {
     "base_uri": "https://localhost:8080/",
     "height": 1000
    },
    "id": "5ed016bc",
    "outputId": "78a5204f-c576-4477-ee08-0bea2ba4eda2"
   },
   "outputs": [],
   "source": [
    "for i in range(1,24):\n",
    "    for j in range(0,31,30):\n",
    "        df2=energy.loc[(energy['Hour'] == i) & (energy['Min'] == j) ]\n",
    "        df2=df2.iloc[:,:2]\n",
    "        AIC_orders=[]\n",
    "\n",
    "        # Loop over p values from 0-3\n",
    "        for q in range(4):\n",
    "          # Loop over q values from 0-6\n",
    "            for p in range(7):\n",
    "                model = SARIMAX(df2.iloc[0:295,0],exog=df2.iloc[0:295,1],order=(p,1,q),enforce_invertibility=False, enforce_stationarity=False)\n",
    "                results = model.fit()\n",
    "\n",
    "                # Append order and results tuple\n",
    "                AIC_orders.append((p,q,results.aic))\n",
    "\n",
    "        # DataFrame from AIC_orders\n",
    "        order_df = pd.DataFrame(AIC_orders,\n",
    "                                columns=['p','q','AIC'])\n",
    "        #sorting based on the minimum values of AIC\n",
    "        order_df=order_df.sort_values('AIC')\n",
    "        order_df = order_df.reset_index()\n",
    "        del order_df['index']\n",
    "        kn = KneeLocator(range(0,28),order_df['AIC'], curve='convex', direction='increasing') #finding the elbow\n",
    "        h=kn.knee\n",
    "\n",
    "        data = [str(i)+':'+str(j),order_df['p'][h], order_df['q'][h]]\n",
    "        df_p_q.loc[len(df_p_q)]=data\n",
    "\n",
    "\n",
    "        #defining the model based on the optimum p and q that AIC returned.\n",
    "        model= SARIMAX(df2.iloc[0:295,0],exog=df2.iloc[0:295,1], order=(order_df['p'][h],1,order_df['q'][h]), enforce_invertibility=False, enforce_stationarity=False)\n",
    "        results= model.fit()\n",
    "        predictions= results.predict(start =295, end=364,exog= df2.iloc[295:,1])\n",
    "        predictions.index= df2.iloc[295:,0].index\n",
    "        df=df.append(pd.DataFrame(data=predictions))\n",
    "\n",
    "        Error_data=[str(i)+':'+str(j),rmse(predictions,df2.iloc[295:,0]), rmse(predictions,df2.iloc[295:,0])/average(df2.iloc[295:,0])]\n",
    "        df_error.loc[len(df_error)]=Error_data\n",
    "        print(str(i)+':'+str(j)+'static')\n",
    "        sm.tsa.graphics.plot_acf(df2.iloc[:,0], lags=30)\n",
    "        plt.show()\n",
    "        results.plot_diagnostics(figsize=(21,12))\n",
    "        plt.show()\n",
    "        print(results.summary())\n",
    "        # Rolling forecast\n",
    "        #split into train and test sets\n",
    "\n",
    "        train, test = df2.iloc[0:295,0].values, df2.iloc[295:,0].values\n",
    "        train_exo, test_exo= df2.iloc[0:295,1].values, df2.iloc[295:,1].values\n",
    "        history = [x for x in train]\n",
    "        history_exo = [y for y in train_exo]\n",
    "        predictions=list()\n",
    "        for t in range(len(test)):\n",
    "            model = SARIMAX(history,exog= history_exo,order=(order_df['p'][h],1,order_df['q'][h]),enforce_invertibility=False, enforce_stationarity=False)\n",
    "            fit_model = model.fit()\n",
    "            out= fit_model.forecast(exog= test_exo[t])\n",
    "            yhat = out[0]\n",
    "            predictions.append(yhat)\n",
    "            J = test[t]\n",
    "            s= test_exo[t]\n",
    "            history.append(J)\n",
    "            history_exo.append(s)\n",
    "        df_rolling= df_rolling.append(pd.DataFrame(data= predictions, index=df2.iloc[295:,0].index))  #adding new predictions to previous hours values\n",
    "\n",
    "        Error_Rolling_data=[str(i)+':'+str(j),rmse(predictions,df2.iloc[295:,0]), rmse(predictions,df2.iloc[295:,0])/average(df2.iloc[295:,0])]\n",
    "        df_Rolling_error.loc[len(df_Rolling_error)]=Error_Rolling_data\n",
    "        print(str(i)+':'+str(j)+'rolling')\n",
    "        fit_model.plot_diagnostics(figsize=(21,12))\n",
    "        plt.show()\n",
    "        print(fit_model.summary())"
   ]
  },
  {
   "cell_type": "code",
   "execution_count": null,
   "id": "756e708e",
   "metadata": {
    "id": "756e708e"
   },
   "outputs": [],
   "source": [
    "df= df.sort_index()\n",
    "df_rolling=df_rolling.sort_index()"
   ]
  },
  {
   "cell_type": "code",
   "execution_count": null,
   "id": "e5dbd8ae",
   "metadata": {
    "colab": {
     "base_uri": "https://localhost:8080/",
     "height": 262
    },
    "id": "e5dbd8ae",
    "outputId": "170f0d42-cef9-48d5-a95f-045dcc354756"
   },
   "outputs": [],
   "source": [
    "fig, ax = plt.subplots(figsize=(21,5))\n",
    "plt.plot(energy.iloc[14159:,0], color='black',label='Real Energy Consumption- $X_t$')\n",
    "plt.plot(df.iloc[:,0], color= 'red', alpha=0.7,label=' Predicted Energy Consumption- static forecast'+ ' $\\hat{X_t}$')\n",
    "plt.plot(df_rolling.iloc[-3360:-1,0], color='green', label='Predicted Energy Consumption- rolling forecast'+ ' $\\hat{X_t}$')\n",
    "plt.title('Prediction for 10 Weeks', fontsize=15)\n",
    "#plt.ylabel('kwh')\n",
    "plt.xlabel('Date', fontsize=15)\n",
    "plt.legend()\n",
    "plt.show()"
   ]
  },
  {
   "cell_type": "code",
   "execution_count": null,
   "id": "UMJ4einOtMDi",
   "metadata": {
    "id": "UMJ4einOtMDi"
   },
   "outputs": [],
   "source": [
    "fig, ax = plt.subplots(figsize=(21,5))\n",
    "plt.plot(energy.iloc[15839:,0], color='black',label='Real Energy Consumption- $X_t$')\n",
    "plt.plot(df.iloc[-1678:-1,0], color= 'red', alpha=0.7,label=' Predicted Energy Consumption static forecast'+ ' $\\hat{X_t}$')\n",
    "\n",
    "plt.plot(df_rolling.iloc[-1678:-1,0], color='green', label='Predicted Energy Consumption- rolling forecast'+ ' $\\hat{X_t}$')\n",
    "\n",
    "plt.title('Prediction for 5 Weeks', fontsize=15)\n",
    "#plt.ylabel('kwh')\n",
    "plt.legend()\n",
    "plt.show()"
   ]
  },
  {
   "cell_type": "code",
   "execution_count": null,
   "id": "c807a524",
   "metadata": {
    "colab": {
     "base_uri": "https://localhost:8080/"
    },
    "id": "c807a524",
    "outputId": "37c46b6d-edf5-4980-aa9b-56462d7b3f1c"
   },
   "outputs": [],
   "source": [
    "mape = mean_absolute_percentage_error(energy.iloc[14159:,0], df.iloc[:,0])*100\n",
    "print('Mean Absolute Percentage Error for Static forecast:', str(mape)+'%')"
   ]
  },
  {
   "cell_type": "code",
   "execution_count": null,
   "id": "61332a1d",
   "metadata": {
    "colab": {
     "base_uri": "https://localhost:8080/"
    },
    "id": "61332a1d",
    "outputId": "75a441bf-6238-4297-ea67-6055deabf32b"
   },
   "outputs": [],
   "source": [
    "mape = mean_absolute_percentage_error(energy.iloc[14159:,0], df_rolling.iloc[:,0])*100\n",
    "print('Mean Absolute Percentage Error for Rolling forecast:', str(mape)+'%')"
   ]
  },
  {
   "cell_type": "code",
   "execution_count": null,
   "id": "5bb549bc",
   "metadata": {
    "colab": {
     "base_uri": "https://localhost:8080/"
    },
    "id": "5bb549bc",
    "outputId": "7efdb800-999e-406b-9be7-8c7283464127"
   },
   "outputs": [],
   "source": [
    "average(df_error.iloc[:,1])"
   ]
  },
  {
   "cell_type": "code",
   "execution_count": null,
   "id": "d091e90e",
   "metadata": {
    "colab": {
     "base_uri": "https://localhost:8080/"
    },
    "id": "d091e90e",
    "outputId": "0d9694ab-868c-4c5b-a2fc-6524f2f7245c"
   },
   "outputs": [],
   "source": [
    "average(df_Rolling_error.iloc[:,1])"
   ]
  },
  {
   "cell_type": "markdown",
   "id": "e52cae0c",
   "metadata": {
    "id": "e52cae0c"
   },
   "source": [
    "# Whitout Exogenous factor (Temperature)"
   ]
  },
  {
   "cell_type": "code",
   "execution_count": null,
   "id": "2c1d3c6c",
   "metadata": {
    "colab": {
     "base_uri": "https://localhost:8080/",
     "height": 446
    },
    "id": "2c1d3c6c",
    "outputId": "655b08c8-ed19-40f0-aa87-1ec14923c560"
   },
   "outputs": [],
   "source": [
    "#Time: 00:00 (because for this time we have less data for training, it is out of the loop and is done separately)\n",
    "df2=energy.loc[(energy['Hour'] == 0) & (energy['Min'] == 0)]\n",
    "df2=df2.iloc[:,:2]\n",
    "df2"
   ]
  },
  {
   "cell_type": "code",
   "execution_count": null,
   "id": "024ebaf6",
   "metadata": {
    "colab": {
     "base_uri": "https://localhost:8080/",
     "height": 1000
    },
    "id": "024ebaf6",
    "outputId": "2b45b51f-eb7f-4274-e133-6c4028bd3d77"
   },
   "outputs": [],
   "source": [
    "#for 00:00\n",
    "AIC_orders=[]\n",
    "\n",
    "# Loop over p values from 0-3\n",
    "for q in range(4):\n",
    "  # Loop over q values from 0-6\n",
    "    for p in range(7):\n",
    "      \t# create and fit ARIMA(p,q) model (d=1 because difference of data is stationary (adfuller test)); traning data is\n",
    "        #given to check the aic\n",
    "        model = SARIMAX(df2.iloc[0:357,0], order=(p,1,q),enforce_invertibility=False, enforce_stationarity=False)\n",
    "        results = model.fit()\n",
    "\n",
    "        # Append order and results tuple\n",
    "        AIC_orders.append((p,q,results.aic))\n",
    "\n",
    "# DataFrame from AIC_orders\n",
    "order_df = pd.DataFrame(AIC_orders,\n",
    "                        columns=['p','q','AIC'])\n",
    "\n",
    "order_df=order_df.sort_values('AIC')\n",
    "order_df = order_df.reset_index()\n",
    "del order_df['index']\n",
    "\n",
    "kn = KneeLocator(range(0,28),order_df['AIC'], curve='convex', direction='increasing') #finding the elbow\n",
    "h=kn.knee\n",
    "\n",
    "\n",
    "data = [{'time':'0','p':order_df['p'][h], 'q':order_df['q'][h]}]\n",
    "\n",
    "df_p_q = pd.DataFrame(data, columns=['time','p','q'])\n",
    "\n",
    "#defining the model based on the optimum p and q that AIC returned.\n",
    "model= SARIMAX(df2.iloc[0:357,0],order=(order_df['p'][h],1,order_df['q'][h]), enforce_invertibility=False, enforce_stationarity=False)\n",
    "results= model.fit()\n",
    "\n",
    "predictions= results.predict(start =357, end=363)\n",
    "predictions.index= df2.iloc[357:,0].index\n",
    "df=pd.DataFrame(data=predictions)\n",
    "\n",
    "Error_data = [{'time':'0','RMSE':rmse (predictions,df2.iloc[357:,0]), 'Normalized RMSE':rmse(predictions,df2.iloc[357:,0])/average(df2.iloc[357:,0])}]\n",
    "df_error= pd.DataFrame(Error_data, columns=['time','RMSE','Normalized RMSE'])\n",
    "print('00:00-static')\n",
    "results.plot_diagnostics(figsize=(21,12))\n",
    "plt.show()\n",
    "print(results.summary())\n",
    "# Rolling forecast\n",
    "\n",
    "train, test = df2.iloc[0:357,0].values, df2.iloc[357:,0].values\n",
    "\n",
    "history = [x for x in train]\n",
    "\n",
    "predictions=list()\n",
    "for t in range(len(test)):\n",
    "    model = SARIMAX(history,order=(order_df['p'][h],1,order_df['q'][h]),enforce_invertibility=False, enforce_stationarity=False)\n",
    "    fit_model = model.fit()\n",
    "    out= fit_model.forecast()\n",
    "    yhat = out[0]\n",
    "    predictions.append(yhat)\n",
    "    J = test[t]\n",
    "    history.append(J)\n",
    "\n",
    "df_rolling=pd.DataFrame(data= predictions, index= df2.iloc[357:,0].index)  #adding predicted values to previous predictions\n",
    "\n",
    "Error_Rolling_data = [{'time':'0','RMSE':rmse(predictions,df2.iloc[357:,0]), 'Normalized RMSE':rmse(predictions,df2.iloc[357:,0])/average(df2.iloc[357:,0])}]\n",
    "df_Rolling_error= pd.DataFrame(Error_data, columns=['time','RMSE','Normalized RMSE'])\n",
    "print('00:00-rolling')\n",
    "fit_model.plot_diagnostics(figsize=(21,12))\n",
    "plt.show()\n",
    "print(fit_model.summary())\n"
   ]
  },
  {
   "cell_type": "code",
   "execution_count": null,
   "id": "24b1d53b",
   "metadata": {
    "colab": {
     "base_uri": "https://localhost:8080/",
     "height": 1000
    },
    "id": "24b1d53b",
    "outputId": "4fa35eed-bf3a-45c9-8d98-800c530bf1bb"
   },
   "outputs": [],
   "source": [
    "#for 00:30\n",
    "df2=energy.loc[(energy['Hour'] == 0) & (energy['Min'] == 30)]\n",
    "df2=df2.iloc[:,:2]\n",
    "sm.tsa.graphics.plot_acf(df2.iloc[:,0], lags=30)\n",
    "plt.show()\n",
    "\n",
    "AIC_orders=[]\n",
    "\n",
    "    # Loop over p values from 0-3\n",
    "for q in range(4):\n",
    "      # Loop over q values from 0-6\n",
    "    for p in range(7):\n",
    "            # create and fit ARIMA(p,q) model (d=1 because difference of data is stationary (adfuller test)); traning data is\n",
    "            #given to check the aic\n",
    "        model = SARIMAX(df2.iloc[0:358,0],order=(p,1,q),enforce_invertibility=False, enforce_stationarity=False)\n",
    "        results = model.fit()\n",
    "\n",
    "            # Append order and results tuple\n",
    "        AIC_orders.append((p,q,results.aic))\n",
    "\n",
    "    # DataFrame from AIC_orders\n",
    "order_df = pd.DataFrame(AIC_orders,\n",
    "                            columns=['p','q','AIC'])\n",
    "    #sorting based on the minimum values of AIC\n",
    "order_df=order_df.sort_values('AIC')\n",
    "order_df = order_df.reset_index()\n",
    "del order_df['index']\n",
    "\n",
    "kn = KneeLocator(range(0,28),order_df['AIC'], curve='convex', direction='increasing') #finding the elbow\n",
    "h=kn.knee\n",
    "\n",
    "data = ['00:30',order_df['p'][h], order_df['q'][h]]\n",
    "df_p_q.loc[len(df_p_q)]=data\n",
    "\n",
    "\n",
    "    #defining a list to collect predicted values.\n",
    "    #defining the model based on the optimum p and q that AIC returned.\n",
    "model= SARIMAX(df2.iloc[0:358,0], order=(order_df['p'][h],1,order_df['q'][h]), enforce_invertibility=False, enforce_stationarity=False)\n",
    "results= model.fit()\n",
    "predictions= results.predict(start =358, end=364)\n",
    "predictions.index= df2.iloc[358:,0].index\n",
    "df=df.append(pd.DataFrame(data=predictions))\n",
    "\n",
    "\n",
    "Error_data=['00:30',rmse(predictions,df2.iloc[358:,0]), rmse(predictions,df2.iloc[358:,0])/average(df2.iloc[358:,0])]\n",
    "df_error.loc[len(df_error)]=Error_data\n",
    "print('00:30-static')\n",
    "results.plot_diagnostics(figsize=(21,12))\n",
    "plt.show()\n",
    "print(results.summary())\n",
    "\n",
    "    #rolling:\n",
    "\n",
    "train, test = df2.iloc[0:358,0].values, df2.iloc[358:,0].values\n",
    "history = [x for x in train]\n",
    "predictions=list()\n",
    "for t in range(len(test)):\n",
    "    model = SARIMAX(history,order=(order_df['p'][h],1,order_df['q'][h]),enforce_invertibility=False, enforce_stationarity=False)\n",
    "    fit_model = model.fit()\n",
    "    out= fit_model.forecast()\n",
    "    yhat = out[0]\n",
    "    predictions.append(yhat)\n",
    "    J = test[t]\n",
    "    history.append(J)\n",
    "df_rolling= df_rolling.append(pd.DataFrame(data= predictions, index= df2.iloc[358:,0].index))   #adding new predictions to previous hours values\n",
    "\n",
    "Error_Rolling_data=['00:30',rmse(predictions,df2.iloc[358,0]), rmse(predictions,df2.iloc[358,0])/average(df2.iloc[358,0])]\n",
    "df_Rolling_error.loc[len(df_Rolling_error)]=Error_Rolling_data\n",
    "print('00:30-rolling')\n",
    "fit_model.plot_diagnostics(figsize=(21,12))\n",
    "plt.show()\n",
    "print(fit_model.summary())"
   ]
  },
  {
   "cell_type": "code",
   "execution_count": null,
   "id": "d99db368",
   "metadata": {
    "colab": {
     "base_uri": "https://localhost:8080/",
     "height": 1000
    },
    "id": "d99db368",
    "outputId": "39d48c92-2cb1-4f38-896b-fbbf532e32b9"
   },
   "outputs": [],
   "source": [
    "for i in range(1,24):\n",
    "    for j in range(0,31,30):\n",
    "        df2=energy.loc[(energy['Hour'] == i) & (energy['Min'] == j) ]\n",
    "        df2=df2.iloc[:,:2]\n",
    "        AIC_orders=[]\n",
    "\n",
    "        # Loop over p values from 0-3\n",
    "        for q in range(4):\n",
    "          # Loop over q values from 0-6\n",
    "            for p in range(7):\n",
    "                model = SARIMAX(df2.iloc[0:358,0],order=(p,1,q),enforce_invertibility=False, enforce_stationarity=False)\n",
    "                results = model.fit()\n",
    "\n",
    "                # Append order and results tuple\n",
    "                AIC_orders.append((p,q,results.aic))\n",
    "\n",
    "        # DataFrame from AIC_orders\n",
    "        order_df = pd.DataFrame(AIC_orders,\n",
    "                                columns=['p','q','AIC'])\n",
    "        #sorting based on the minimum values of AIC\n",
    "        order_df=order_df.sort_values('AIC')\n",
    "        order_df = order_df.reset_index()\n",
    "        del order_df['index']\n",
    "        kn = KneeLocator(range(0,28),order_df['AIC'], curve='convex', direction='increasing') #finding the elbow\n",
    "        h=kn.knee\n",
    "\n",
    "        data = [str(i)+':'+str(j),order_df['p'][h], order_df['q'][h]]\n",
    "        df_p_q.loc[len(df_p_q)]=data\n",
    "\n",
    "\n",
    "        #defining the model based on the optimum p and q that AIC returned.\n",
    "        model= SARIMAX(df2.iloc[0:358,0], order=(order_df['p'][h],1,order_df['q'][h]), enforce_invertibility=False, enforce_stationarity=False)\n",
    "        results= model.fit()\n",
    "        predictions= results.predict(start =358, end=364)\n",
    "        predictions.index= df2.iloc[358:,0].index\n",
    "        df=df.append(pd.DataFrame(data=predictions))\n",
    "\n",
    "        Error_data=[str(i)+':'+str(j),rmse(predictions,df2.iloc[358:,0]), rmse(predictions,df2.iloc[358:,0])/average(df2.iloc[358:,0])]\n",
    "        df_error.loc[len(df_error)]=Error_data\n",
    "        print(str(i)+':'+str(j)+'static')\n",
    "        sm.tsa.graphics.plot_acf(df2.iloc[:,0], lags=30)\n",
    "        plt.show()\n",
    "        results.plot_diagnostics(figsize=(21,12))\n",
    "        plt.show()\n",
    "        print(results.summary())\n",
    "        # Rolling forecast\n",
    "        #split into train and test sets\n",
    "\n",
    "        train, test = df2.iloc[0:358,0].values, df2.iloc[358:,0].values\n",
    "        history = [x for x in train]\n",
    "        predictions=list()\n",
    "        for t in range(len(test)):\n",
    "            model = SARIMAX(history,order=(order_df['p'][h],1,order_df['q'][h]),enforce_invertibility=False, enforce_stationarity=False)\n",
    "            fit_model = model.fit()\n",
    "            out= fit_model.forecast()\n",
    "            yhat = out[0]\n",
    "            predictions.append(yhat)\n",
    "            J = test[t]\n",
    "            history.append(J)\n",
    "        df_rolling= df_rolling.append(pd.DataFrame(data= predictions, index=df2.iloc[358:,0].index))  #adding new predictions to previous hours values\n",
    "\n",
    "        Error_Rolling_data=[str(i)+':'+str(j),rmse(predictions,df2.iloc[358:,0]), rmse(predictions,df2.iloc[358:,0])/average(df2.iloc[358:,0])]\n",
    "        df_Rolling_error.loc[len(df_Rolling_error)]=Error_Rolling_data\n",
    "        print(str(i)+':'+str(j)+'rolling')\n",
    "        fit_model.plot_diagnostics(figsize=(21,12))\n",
    "        plt.show()\n",
    "        print(fit_model.summary())\n"
   ]
  },
  {
   "cell_type": "code",
   "execution_count": null,
   "id": "402da264",
   "metadata": {
    "id": "402da264"
   },
   "outputs": [],
   "source": [
    "df= df.sort_index()"
   ]
  },
  {
   "cell_type": "code",
   "execution_count": null,
   "id": "330f8ae6",
   "metadata": {
    "colab": {
     "base_uri": "https://localhost:8080/",
     "height": 249
    },
    "id": "330f8ae6",
    "outputId": "018be01c-693a-4959-9cbe-398ad1f35787"
   },
   "outputs": [],
   "source": [
    "df_rolling=df_rolling.sort_index()\n",
    "fig, ax = plt.subplots(figsize=(21,5))\n",
    "plt.plot(energy.iloc[17183:,0], color='black',label='Real Energy Consumption, $X_t$')\n",
    "plt.plot(df.iloc[:,0], color= 'red', alpha=0.7,label=' Predicted Energy Consumption- Static Forecast'+ ' $\\hat{X_t}$')\n",
    "plt.plot(df_rolling.iloc[:,0], color='lightgreen', label='Predicted Energy Consumption- Rolling forecast'+ ' $\\hat{X_t}$')\n",
    "\n",
    "#plt.plot(energy.iloc[17184:,1], color='orange', label='Temperatue')\n",
    "#plt.title('Prediction for 1 Week (Model Without Exogenous Factor)', fontsize=15)\n",
    "#plt.ylabel('Energy (KWh)')\n",
    "plt.xlabel('Date', fontsize=15)\n",
    "plt.legend()\n",
    "plt.show()"
   ]
  },
  {
   "cell_type": "code",
   "execution_count": null,
   "id": "e7dd08b3",
   "metadata": {
    "colab": {
     "base_uri": "https://localhost:8080/"
    },
    "id": "e7dd08b3",
    "outputId": "9b0f4b8f-3d6d-43f4-936e-5dc98a138511"
   },
   "outputs": [],
   "source": [
    "#calculating mean absolute percentage error in order to compare with other ML models\n",
    "mape = mean_absolute_percentage_error(energy.iloc[17183:,0], df_rolling.iloc[:,0])*100\n",
    "print('Mean Absolute Percentage Error for Rolling forecast:', str(mape)+'%')"
   ]
  },
  {
   "cell_type": "code",
   "execution_count": null,
   "id": "70b9c52f",
   "metadata": {
    "colab": {
     "base_uri": "https://localhost:8080/"
    },
    "id": "70b9c52f",
    "outputId": "690720bf-63e2-4a77-ea22-59f7aab1197c"
   },
   "outputs": [],
   "source": [
    "mape = mean_absolute_percentage_error(energy.iloc[17183:,0], df.iloc[:,0])*100\n",
    "print('Mean Absolute Percentage Error for Static forecast:', str(mape)+'%')"
   ]
  },
  {
   "cell_type": "code",
   "execution_count": null,
   "id": "de83c725",
   "metadata": {
    "colab": {
     "base_uri": "https://localhost:8080/"
    },
    "id": "de83c725",
    "outputId": "81245681-b09b-40f2-f0e6-e19c8d68df57"
   },
   "outputs": [],
   "source": [
    "rmse = rmse(energy.iloc[17183:,0], df_rolling.iloc[:,0])\n",
    "print('RMSE for Rolling forecast:', str(rmse)+'%')"
   ]
  },
  {
   "cell_type": "code",
   "execution_count": null,
   "id": "5fd4fda4",
   "metadata": {
    "colab": {
     "base_uri": "https://localhost:8080/"
    },
    "id": "5fd4fda4",
    "outputId": "5f6bb2eb-04f8-4e6c-c34e-56b3638cb66d"
   },
   "outputs": [],
   "source": [
    "average(df_error.iloc[:,1])"
   ]
  },
  {
   "cell_type": "code",
   "execution_count": null,
   "id": "1e767379",
   "metadata": {
    "colab": {
     "base_uri": "https://localhost:8080/"
    },
    "id": "1e767379",
    "outputId": "18d3ed6a-772f-4571-acd2-e49aac6f1d63"
   },
   "outputs": [],
   "source": [
    "average(df_Rolling_error.iloc[:,1])"
   ]
  }
 ],
 "metadata": {
  "colab": {
   "provenance": []
  },
  "kernelspec": {
   "display_name": "Python 3 (ipykernel)",
   "language": "python",
   "name": "python3"
  },
  "language_info": {
   "codemirror_mode": {
    "name": "ipython",
    "version": 3
   },
   "file_extension": ".py",
   "mimetype": "text/x-python",
   "name": "python",
   "nbconvert_exporter": "python",
   "pygments_lexer": "ipython3",
   "version": "3.10.9"
  }
 },
 "nbformat": 4,
 "nbformat_minor": 5
}
